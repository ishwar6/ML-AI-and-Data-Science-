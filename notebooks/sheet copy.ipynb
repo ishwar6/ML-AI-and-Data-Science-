{
 "cells": [
  {
   "cell_type": "code",
   "execution_count": 104,
   "id": "b0d97bef",
   "metadata": {},
   "outputs": [],
   "source": [
    "PATH = \"/Users/ishwarjangid/Downloads/Summary_27Nov.xlsx\"\n"
   ]
  },
  {
   "cell_type": "code",
   "execution_count": 105,
   "id": "92002cad",
   "metadata": {},
   "outputs": [],
   "source": [
    "import pandas as pd"
   ]
  },
  {
   "cell_type": "code",
   "execution_count": 106,
   "id": "ecdcd743",
   "metadata": {},
   "outputs": [],
   "source": [
    "import numpy as np\n",
    "import matplotlib.pyplot as plt\n"
   ]
  },
  {
   "cell_type": "code",
   "execution_count": 107,
   "id": "a0eaa89d",
   "metadata": {},
   "outputs": [],
   "source": [
    "df = pd.read_excel(PATH)\n"
   ]
  },
  {
   "cell_type": "code",
   "execution_count": 108,
   "id": "de308bf8",
   "metadata": {},
   "outputs": [
    {
     "data": {
      "text/html": [
       "<div>\n",
       "<style scoped>\n",
       "    .dataframe tbody tr th:only-of-type {\n",
       "        vertical-align: middle;\n",
       "    }\n",
       "\n",
       "    .dataframe tbody tr th {\n",
       "        vertical-align: top;\n",
       "    }\n",
       "\n",
       "    .dataframe thead th {\n",
       "        text-align: right;\n",
       "    }\n",
       "</style>\n",
       "<table border=\"1\" class=\"dataframe\">\n",
       "  <thead>\n",
       "    <tr style=\"text-align: right;\">\n",
       "      <th></th>\n",
       "      <th>Date</th>\n",
       "      <th>Fabric</th>\n",
       "      <th>Last_Errors</th>\n",
       "      <th>broadcastPkts</th>\n",
       "      <th>cRCAlignErrors</th>\n",
       "      <th>collisions</th>\n",
       "      <th>dropEvents</th>\n",
       "      <th>fragments</th>\n",
       "      <th>jabbers</th>\n",
       "      <th>multicastPkts</th>\n",
       "      <th>...</th>\n",
       "      <th>pkts512to1023Octets</th>\n",
       "      <th>pkts64Octets</th>\n",
       "      <th>pkts65to127Octets</th>\n",
       "      <th>rXNoErrors</th>\n",
       "      <th>rxGiantPkts</th>\n",
       "      <th>rxOversizePkts</th>\n",
       "      <th>tXNoErrors</th>\n",
       "      <th>txGiantPkts</th>\n",
       "      <th>txOversizePkts</th>\n",
       "      <th>undersizePkts</th>\n",
       "    </tr>\n",
       "  </thead>\n",
       "  <tbody>\n",
       "    <tr>\n",
       "      <th>0</th>\n",
       "      <td>2022-09-27</td>\n",
       "      <td>KBDC4</td>\n",
       "      <td>80812509284</td>\n",
       "      <td>29583983612203</td>\n",
       "      <td>94639235</td>\n",
       "      <td>0</td>\n",
       "      <td>0</td>\n",
       "      <td>17</td>\n",
       "      <td>17675</td>\n",
       "      <td>179071427525884</td>\n",
       "      <td>...</td>\n",
       "      <td>330423694072003</td>\n",
       "      <td>75020394433875</td>\n",
       "      <td>1470912628711340</td>\n",
       "      <td>4890009167162720</td>\n",
       "      <td>71785405</td>\n",
       "      <td>709779953901211</td>\n",
       "      <td>5705134654698320</td>\n",
       "      <td>0</td>\n",
       "      <td>937603462258379</td>\n",
       "      <td>0</td>\n",
       "    </tr>\n",
       "    <tr>\n",
       "      <th>1</th>\n",
       "      <td>2022-09-27</td>\n",
       "      <td>KBDCF</td>\n",
       "      <td>42946070513</td>\n",
       "      <td>142546000000</td>\n",
       "      <td>4994</td>\n",
       "      <td>0</td>\n",
       "      <td>0</td>\n",
       "      <td>0</td>\n",
       "      <td>6</td>\n",
       "      <td>5551460000000</td>\n",
       "      <td>...</td>\n",
       "      <td>3888500000000</td>\n",
       "      <td>374192000000</td>\n",
       "      <td>6386250000000</td>\n",
       "      <td>16762600000000</td>\n",
       "      <td>6</td>\n",
       "      <td>4617700000000</td>\n",
       "      <td>19113000000000</td>\n",
       "      <td>0</td>\n",
       "      <td>5230240000000</td>\n",
       "      <td>0</td>\n",
       "    </tr>\n",
       "    <tr>\n",
       "      <th>2</th>\n",
       "      <td>2022-09-27</td>\n",
       "      <td>SNDC1</td>\n",
       "      <td>161625000000</td>\n",
       "      <td>29584000000000</td>\n",
       "      <td>94639235</td>\n",
       "      <td>0</td>\n",
       "      <td>0</td>\n",
       "      <td>17</td>\n",
       "      <td>17675</td>\n",
       "      <td>179071000000000</td>\n",
       "      <td>...</td>\n",
       "      <td>330424000000000</td>\n",
       "      <td>75020400000000</td>\n",
       "      <td>1470910000000000</td>\n",
       "      <td>4890010000000000</td>\n",
       "      <td>71785405</td>\n",
       "      <td>709780000000000</td>\n",
       "      <td>5705130000000000</td>\n",
       "      <td>0</td>\n",
       "      <td>937603000000000</td>\n",
       "      <td>0</td>\n",
       "    </tr>\n",
       "    <tr>\n",
       "      <th>3</th>\n",
       "      <td>2022-09-27</td>\n",
       "      <td>SNDC2</td>\n",
       "      <td>2187591734</td>\n",
       "      <td>238444000000</td>\n",
       "      <td>152893</td>\n",
       "      <td>0</td>\n",
       "      <td>0</td>\n",
       "      <td>0</td>\n",
       "      <td>2</td>\n",
       "      <td>584365000000</td>\n",
       "      <td>...</td>\n",
       "      <td>18331000000000</td>\n",
       "      <td>1051950000000</td>\n",
       "      <td>49243700000000</td>\n",
       "      <td>269166000000000</td>\n",
       "      <td>70</td>\n",
       "      <td>27159500000000</td>\n",
       "      <td>284518000000000</td>\n",
       "      <td>0</td>\n",
       "      <td>27196900000000</td>\n",
       "      <td>0</td>\n",
       "    </tr>\n",
       "    <tr>\n",
       "      <th>4</th>\n",
       "      <td>2022-09-27</td>\n",
       "      <td>SNDC7</td>\n",
       "      <td>8612479264</td>\n",
       "      <td>314315000000</td>\n",
       "      <td>2315</td>\n",
       "      <td>0</td>\n",
       "      <td>0</td>\n",
       "      <td>0</td>\n",
       "      <td>320</td>\n",
       "      <td>2597490000000</td>\n",
       "      <td>...</td>\n",
       "      <td>4259710000000</td>\n",
       "      <td>107027000000</td>\n",
       "      <td>6291000000000</td>\n",
       "      <td>21345500000000</td>\n",
       "      <td>320</td>\n",
       "      <td>6724960000000</td>\n",
       "      <td>23316400000000</td>\n",
       "      <td>0</td>\n",
       "      <td>7044650000000</td>\n",
       "      <td>0</td>\n",
       "    </tr>\n",
       "  </tbody>\n",
       "</table>\n",
       "<p>5 rows × 26 columns</p>\n",
       "</div>"
      ],
      "text/plain": [
       "        Date Fabric   Last_Errors   broadcastPkts  cRCAlignErrors  collisions  \\\n",
       "0 2022-09-27  KBDC4   80812509284  29583983612203        94639235           0   \n",
       "1 2022-09-27  KBDCF   42946070513    142546000000            4994           0   \n",
       "2 2022-09-27  SNDC1  161625000000  29584000000000        94639235           0   \n",
       "3 2022-09-27  SNDC2    2187591734    238444000000          152893           0   \n",
       "4 2022-09-27  SNDC7    8612479264    314315000000            2315           0   \n",
       "\n",
       "   dropEvents  fragments  jabbers    multicastPkts  ... pkts512to1023Octets  \\\n",
       "0           0         17    17675  179071427525884  ...     330423694072003   \n",
       "1           0          0        6    5551460000000  ...       3888500000000   \n",
       "2           0         17    17675  179071000000000  ...     330424000000000   \n",
       "3           0          0        2     584365000000  ...      18331000000000   \n",
       "4           0          0      320    2597490000000  ...       4259710000000   \n",
       "\n",
       "     pkts64Octets  pkts65to127Octets        rXNoErrors  rxGiantPkts  \\\n",
       "0  75020394433875   1470912628711340  4890009167162720     71785405   \n",
       "1    374192000000      6386250000000    16762600000000            6   \n",
       "2  75020400000000   1470910000000000  4890010000000000     71785405   \n",
       "3   1051950000000     49243700000000   269166000000000           70   \n",
       "4    107027000000      6291000000000    21345500000000          320   \n",
       "\n",
       "    rxOversizePkts        tXNoErrors  txGiantPkts   txOversizePkts  \\\n",
       "0  709779953901211  5705134654698320            0  937603462258379   \n",
       "1    4617700000000    19113000000000            0    5230240000000   \n",
       "2  709780000000000  5705130000000000            0  937603000000000   \n",
       "3   27159500000000   284518000000000            0   27196900000000   \n",
       "4    6724960000000    23316400000000            0    7044650000000   \n",
       "\n",
       "   undersizePkts  \n",
       "0              0  \n",
       "1              0  \n",
       "2              0  \n",
       "3              0  \n",
       "4              0  \n",
       "\n",
       "[5 rows x 26 columns]"
      ]
     },
     "execution_count": 108,
     "metadata": {},
     "output_type": "execute_result"
    }
   ],
   "source": [
    "df.head()"
   ]
  },
  {
   "cell_type": "code",
   "execution_count": 109,
   "id": "2c81de18",
   "metadata": {},
   "outputs": [
    {
     "data": {
      "text/html": [
       "<div>\n",
       "<style scoped>\n",
       "    .dataframe tbody tr th:only-of-type {\n",
       "        vertical-align: middle;\n",
       "    }\n",
       "\n",
       "    .dataframe tbody tr th {\n",
       "        vertical-align: top;\n",
       "    }\n",
       "\n",
       "    .dataframe thead th {\n",
       "        text-align: right;\n",
       "    }\n",
       "</style>\n",
       "<table border=\"1\" class=\"dataframe\">\n",
       "  <thead>\n",
       "    <tr style=\"text-align: right;\">\n",
       "      <th></th>\n",
       "      <th>Date</th>\n",
       "      <th>Fabric</th>\n",
       "      <th>Last_Errors</th>\n",
       "      <th>broadcastPkts</th>\n",
       "      <th>cRCAlignErrors</th>\n",
       "      <th>collisions</th>\n",
       "      <th>dropEvents</th>\n",
       "      <th>fragments</th>\n",
       "      <th>jabbers</th>\n",
       "      <th>multicastPkts</th>\n",
       "      <th>...</th>\n",
       "      <th>pkts512to1023Octets</th>\n",
       "      <th>pkts64Octets</th>\n",
       "      <th>pkts65to127Octets</th>\n",
       "      <th>rXNoErrors</th>\n",
       "      <th>rxGiantPkts</th>\n",
       "      <th>rxOversizePkts</th>\n",
       "      <th>tXNoErrors</th>\n",
       "      <th>txGiantPkts</th>\n",
       "      <th>txOversizePkts</th>\n",
       "      <th>undersizePkts</th>\n",
       "    </tr>\n",
       "  </thead>\n",
       "  <tbody>\n",
       "    <tr>\n",
       "      <th>0</th>\n",
       "      <td>2022-09-27</td>\n",
       "      <td>KBDC4</td>\n",
       "      <td>80812509284</td>\n",
       "      <td>29583983612203</td>\n",
       "      <td>94639235</td>\n",
       "      <td>0</td>\n",
       "      <td>0</td>\n",
       "      <td>17</td>\n",
       "      <td>17675</td>\n",
       "      <td>179071427525884</td>\n",
       "      <td>...</td>\n",
       "      <td>330423694072003</td>\n",
       "      <td>75020394433875</td>\n",
       "      <td>1470912628711340</td>\n",
       "      <td>4890009167162720</td>\n",
       "      <td>71785405</td>\n",
       "      <td>709779953901211</td>\n",
       "      <td>5705134654698320</td>\n",
       "      <td>0</td>\n",
       "      <td>937603462258379</td>\n",
       "      <td>0</td>\n",
       "    </tr>\n",
       "    <tr>\n",
       "      <th>1</th>\n",
       "      <td>2022-09-27</td>\n",
       "      <td>KBDCF</td>\n",
       "      <td>42946070513</td>\n",
       "      <td>142546000000</td>\n",
       "      <td>4994</td>\n",
       "      <td>0</td>\n",
       "      <td>0</td>\n",
       "      <td>0</td>\n",
       "      <td>6</td>\n",
       "      <td>5551460000000</td>\n",
       "      <td>...</td>\n",
       "      <td>3888500000000</td>\n",
       "      <td>374192000000</td>\n",
       "      <td>6386250000000</td>\n",
       "      <td>16762600000000</td>\n",
       "      <td>6</td>\n",
       "      <td>4617700000000</td>\n",
       "      <td>19113000000000</td>\n",
       "      <td>0</td>\n",
       "      <td>5230240000000</td>\n",
       "      <td>0</td>\n",
       "    </tr>\n",
       "  </tbody>\n",
       "</table>\n",
       "<p>2 rows × 26 columns</p>\n",
       "</div>"
      ],
      "text/plain": [
       "        Date Fabric  Last_Errors   broadcastPkts  cRCAlignErrors  collisions  \\\n",
       "0 2022-09-27  KBDC4  80812509284  29583983612203        94639235           0   \n",
       "1 2022-09-27  KBDCF  42946070513    142546000000            4994           0   \n",
       "\n",
       "   dropEvents  fragments  jabbers    multicastPkts  ... pkts512to1023Octets  \\\n",
       "0           0         17    17675  179071427525884  ...     330423694072003   \n",
       "1           0          0        6    5551460000000  ...       3888500000000   \n",
       "\n",
       "     pkts64Octets  pkts65to127Octets        rXNoErrors  rxGiantPkts  \\\n",
       "0  75020394433875   1470912628711340  4890009167162720     71785405   \n",
       "1    374192000000      6386250000000    16762600000000            6   \n",
       "\n",
       "    rxOversizePkts        tXNoErrors  txGiantPkts   txOversizePkts  \\\n",
       "0  709779953901211  5705134654698320            0  937603462258379   \n",
       "1    4617700000000    19113000000000            0    5230240000000   \n",
       "\n",
       "   undersizePkts  \n",
       "0              0  \n",
       "1              0  \n",
       "\n",
       "[2 rows x 26 columns]"
      ]
     },
     "execution_count": 109,
     "metadata": {},
     "output_type": "execute_result"
    }
   ],
   "source": [
    "df.head(2)"
   ]
  },
  {
   "cell_type": "code",
   "execution_count": 110,
   "id": "c5aaf380",
   "metadata": {},
   "outputs": [],
   "source": [
    "fragments = df['fragments']"
   ]
  },
  {
   "cell_type": "code",
   "execution_count": 111,
   "id": "ca9c22e6",
   "metadata": {},
   "outputs": [
    {
     "data": {
      "text/plain": [
       "<AxesSubplot:xlabel='Date'>"
      ]
     },
     "execution_count": 111,
     "metadata": {},
     "output_type": "execute_result"
    },
    {
     "data": {
      "image/png": "[encoded data removed]",
      "text/plain": [
       "<Figure size 432x288 with 1 Axes>"
      ]
     },
     "metadata": {
      "needs_background": "light"
     },
     "output_type": "display_data"
    }
   ],
   "source": [
    "df.plot.bar(x='Date', y='broadcastPkts')"
   ]
  },
  {
   "cell_type": "code",
   "execution_count": 112,
   "id": "dd0b2191",
   "metadata": {},
   "outputs": [
    {
     "data": {
      "text/plain": [
       "<AxesSubplot:xlabel='Fabric'>"
      ]
     },
     "execution_count": 112,
     "metadata": {},
     "output_type": "execute_result"
    },
    {
     "data": {
      "image/png": "[encoded data removed]",
      "text/plain": [
       "<Figure size 432x288 with 1 Axes>"
      ]
     },
     "metadata": {
      "needs_background": "light"
     },
     "output_type": "display_data"
    }
   ],
   "source": [
    "df.plot.bar(x='Fabric', y='fragments')"
   ]
  },
  {
   "cell_type": "code",
   "execution_count": 113,
   "id": "7d3e877c",
   "metadata": {},
   "outputs": [],
   "source": [
    "df = pd.DataFrame({\n",
    "    'Name': ['John', 'Sammy', 'Joe'],\n",
    "    'Age': [45, 38, 90],\n",
    "    'Height(in cm)': [150, 180, 160]\n",
    "})"
   ]
  },
  {
   "cell_type": "code",
   "execution_count": 114,
   "id": "a7976075",
   "metadata": {},
   "outputs": [
    {
     "data": {
      "text/html": [
       "<div>\n",
       "<style scoped>\n",
       "    .dataframe tbody tr th:only-of-type {\n",
       "        vertical-align: middle;\n",
       "    }\n",
       "\n",
       "    .dataframe tbody tr th {\n",
       "        vertical-align: top;\n",
       "    }\n",
       "\n",
       "    .dataframe thead th {\n",
       "        text-align: right;\n",
       "    }\n",
       "</style>\n",
       "<table border=\"1\" class=\"dataframe\">\n",
       "  <thead>\n",
       "    <tr style=\"text-align: right;\">\n",
       "      <th></th>\n",
       "      <th>Name</th>\n",
       "      <th>Age</th>\n",
       "      <th>Height(in cm)</th>\n",
       "    </tr>\n",
       "  </thead>\n",
       "  <tbody>\n",
       "    <tr>\n",
       "      <th>0</th>\n",
       "      <td>John</td>\n",
       "      <td>45</td>\n",
       "      <td>150</td>\n",
       "    </tr>\n",
       "    <tr>\n",
       "      <th>1</th>\n",
       "      <td>Sammy</td>\n",
       "      <td>38</td>\n",
       "      <td>180</td>\n",
       "    </tr>\n",
       "    <tr>\n",
       "      <th>2</th>\n",
       "      <td>Joe</td>\n",
       "      <td>90</td>\n",
       "      <td>160</td>\n",
       "    </tr>\n",
       "  </tbody>\n",
       "</table>\n",
       "</div>"
      ],
      "text/plain": [
       "    Name  Age  Height(in cm)\n",
       "0   John   45            150\n",
       "1  Sammy   38            180\n",
       "2    Joe   90            160"
      ]
     },
     "execution_count": 114,
     "metadata": {},
     "output_type": "execute_result"
    }
   ],
   "source": [
    "df"
   ]
  },
  {
   "cell_type": "code",
   "execution_count": 115,
   "id": "f588b085",
   "metadata": {},
   "outputs": [
    {
     "ename": "KeyError",
     "evalue": "'Fabric'",
     "output_type": "error",
     "traceback": [
      "\u001b[0;31m---------------------------------------------------------------------------\u001b[0m",
      "\u001b[0;31mKeyError\u001b[0m                                  Traceback (most recent call last)",
      "File \u001b[0;32m~/Desktop/test/ML-AI-and-Data-Science-/env/lib/python3.10/site-packages/pandas/core/indexes/base.py:3621\u001b[0m, in \u001b[0;36mIndex.get_loc\u001b[0;34m(self, key, method, tolerance)\u001b[0m\n\u001b[1;32m   3620\u001b[0m \u001b[38;5;28;01mtry\u001b[39;00m:\n\u001b[0;32m-> 3621\u001b[0m     \u001b[38;5;28;01mreturn\u001b[39;00m \u001b[38;5;28;43mself\u001b[39;49m\u001b[38;5;241;43m.\u001b[39;49m\u001b[43m_engine\u001b[49m\u001b[38;5;241;43m.\u001b[39;49m\u001b[43mget_loc\u001b[49m\u001b[43m(\u001b[49m\u001b[43mcasted_key\u001b[49m\u001b[43m)\u001b[49m\n\u001b[1;32m   3622\u001b[0m \u001b[38;5;28;01mexcept\u001b[39;00m \u001b[38;5;167;01mKeyError\u001b[39;00m \u001b[38;5;28;01mas\u001b[39;00m err:\n",
      "File \u001b[0;32m~/Desktop/test/ML-AI-and-Data-Science-/env/lib/python3.10/site-packages/pandas/_libs/index.pyx:136\u001b[0m, in \u001b[0;36mpandas._libs.index.IndexEngine.get_loc\u001b[0;34m()\u001b[0m\n",
      "File \u001b[0;32m~/Desktop/test/ML-AI-and-Data-Science-/env/lib/python3.10/site-packages/pandas/_libs/index.pyx:163\u001b[0m, in \u001b[0;36mpandas._libs.index.IndexEngine.get_loc\u001b[0;34m()\u001b[0m\n",
      "File \u001b[0;32mpandas/_libs/hashtable_class_helper.pxi:5198\u001b[0m, in \u001b[0;36mpandas._libs.hashtable.PyObjectHashTable.get_item\u001b[0;34m()\u001b[0m\n",
      "File \u001b[0;32mpandas/_libs/hashtable_class_helper.pxi:5206\u001b[0m, in \u001b[0;36mpandas._libs.hashtable.PyObjectHashTable.get_item\u001b[0;34m()\u001b[0m\n",
      "\u001b[0;31mKeyError\u001b[0m: 'Fabric'",
      "\nThe above exception was the direct cause of the following exception:\n",
      "\u001b[0;31mKeyError\u001b[0m                                  Traceback (most recent call last)",
      "Input \u001b[0;32mIn [115]\u001b[0m, in \u001b[0;36m<cell line: 1>\u001b[0;34m()\u001b[0m\n\u001b[0;32m----> 1\u001b[0m \u001b[43mdf\u001b[49m\u001b[38;5;241;43m.\u001b[39;49m\u001b[43mplot\u001b[49m\u001b[43m(\u001b[49m\u001b[43mx\u001b[49m\u001b[38;5;241;43m=\u001b[39;49m\u001b[38;5;124;43m\"\u001b[39;49m\u001b[38;5;124;43mFabric\u001b[39;49m\u001b[38;5;124;43m\"\u001b[39;49m\u001b[43m,\u001b[49m\u001b[43m \u001b[49m\u001b[43my\u001b[49m\u001b[38;5;241;43m=\u001b[39;49m\u001b[43m[\u001b[49m\u001b[38;5;124;43m\"\u001b[39;49m\u001b[38;5;124;43mfragments\u001b[39;49m\u001b[38;5;124;43m\"\u001b[39;49m\u001b[43m,\u001b[49m\u001b[43m \u001b[49m\u001b[38;5;124;43m\"\u001b[39;49m\u001b[38;5;124;43mHeight(in cm)\u001b[39;49m\u001b[38;5;124;43m\"\u001b[39;49m\u001b[43m]\u001b[49m\u001b[43m,\u001b[49m\u001b[43m \u001b[49m\u001b[43mkind\u001b[49m\u001b[38;5;241;43m=\u001b[39;49m\u001b[38;5;124;43m\"\u001b[39;49m\u001b[38;5;124;43mbar\u001b[39;49m\u001b[38;5;124;43m\"\u001b[39;49m\u001b[43m)\u001b[49m\n",
      "File \u001b[0;32m~/Desktop/test/ML-AI-and-Data-Science-/env/lib/python3.10/site-packages/pandas/plotting/_core.py:937\u001b[0m, in \u001b[0;36mPlotAccessor.__call__\u001b[0;34m(self, *args, **kwargs)\u001b[0m\n\u001b[1;32m    935\u001b[0m \u001b[38;5;28;01mif\u001b[39;00m is_integer(x) \u001b[38;5;129;01mand\u001b[39;00m \u001b[38;5;129;01mnot\u001b[39;00m data\u001b[38;5;241m.\u001b[39mcolumns\u001b[38;5;241m.\u001b[39mholds_integer():\n\u001b[1;32m    936\u001b[0m     x \u001b[38;5;241m=\u001b[39m data_cols[x]\n\u001b[0;32m--> 937\u001b[0m \u001b[38;5;28;01melif\u001b[39;00m \u001b[38;5;129;01mnot\u001b[39;00m \u001b[38;5;28misinstance\u001b[39m(\u001b[43mdata\u001b[49m\u001b[43m[\u001b[49m\u001b[43mx\u001b[49m\u001b[43m]\u001b[49m, ABCSeries):\n\u001b[1;32m    938\u001b[0m     \u001b[38;5;28;01mraise\u001b[39;00m \u001b[38;5;167;01mValueError\u001b[39;00m(\u001b[38;5;124m\"\u001b[39m\u001b[38;5;124mx must be a label or position\u001b[39m\u001b[38;5;124m\"\u001b[39m)\n\u001b[1;32m    939\u001b[0m data \u001b[38;5;241m=\u001b[39m data\u001b[38;5;241m.\u001b[39mset_index(x)\n",
      "File \u001b[0;32m~/Desktop/test/ML-AI-and-Data-Science-/env/lib/python3.10/site-packages/pandas/core/frame.py:3505\u001b[0m, in \u001b[0;36mDataFrame.__getitem__\u001b[0;34m(self, key)\u001b[0m\n\u001b[1;32m   3503\u001b[0m \u001b[38;5;28;01mif\u001b[39;00m \u001b[38;5;28mself\u001b[39m\u001b[38;5;241m.\u001b[39mcolumns\u001b[38;5;241m.\u001b[39mnlevels \u001b[38;5;241m>\u001b[39m \u001b[38;5;241m1\u001b[39m:\n\u001b[1;32m   3504\u001b[0m     \u001b[38;5;28;01mreturn\u001b[39;00m \u001b[38;5;28mself\u001b[39m\u001b[38;5;241m.\u001b[39m_getitem_multilevel(key)\n\u001b[0;32m-> 3505\u001b[0m indexer \u001b[38;5;241m=\u001b[39m \u001b[38;5;28;43mself\u001b[39;49m\u001b[38;5;241;43m.\u001b[39;49m\u001b[43mcolumns\u001b[49m\u001b[38;5;241;43m.\u001b[39;49m\u001b[43mget_loc\u001b[49m\u001b[43m(\u001b[49m\u001b[43mkey\u001b[49m\u001b[43m)\u001b[49m\n\u001b[1;32m   3506\u001b[0m \u001b[38;5;28;01mif\u001b[39;00m is_integer(indexer):\n\u001b[1;32m   3507\u001b[0m     indexer \u001b[38;5;241m=\u001b[39m [indexer]\n",
      "File \u001b[0;32m~/Desktop/test/ML-AI-and-Data-Science-/env/lib/python3.10/site-packages/pandas/core/indexes/base.py:3623\u001b[0m, in \u001b[0;36mIndex.get_loc\u001b[0;34m(self, key, method, tolerance)\u001b[0m\n\u001b[1;32m   3621\u001b[0m     \u001b[38;5;28;01mreturn\u001b[39;00m \u001b[38;5;28mself\u001b[39m\u001b[38;5;241m.\u001b[39m_engine\u001b[38;5;241m.\u001b[39mget_loc(casted_key)\n\u001b[1;32m   3622\u001b[0m \u001b[38;5;28;01mexcept\u001b[39;00m \u001b[38;5;167;01mKeyError\u001b[39;00m \u001b[38;5;28;01mas\u001b[39;00m err:\n\u001b[0;32m-> 3623\u001b[0m     \u001b[38;5;28;01mraise\u001b[39;00m \u001b[38;5;167;01mKeyError\u001b[39;00m(key) \u001b[38;5;28;01mfrom\u001b[39;00m \u001b[38;5;21;01merr\u001b[39;00m\n\u001b[1;32m   3624\u001b[0m \u001b[38;5;28;01mexcept\u001b[39;00m \u001b[38;5;167;01mTypeError\u001b[39;00m:\n\u001b[1;32m   3625\u001b[0m     \u001b[38;5;66;03m# If we have a listlike key, _check_indexing_error will raise\u001b[39;00m\n\u001b[1;32m   3626\u001b[0m     \u001b[38;5;66;03m#  InvalidIndexError. Otherwise we fall through and re-raise\u001b[39;00m\n\u001b[1;32m   3627\u001b[0m     \u001b[38;5;66;03m#  the TypeError.\u001b[39;00m\n\u001b[1;32m   3628\u001b[0m     \u001b[38;5;28mself\u001b[39m\u001b[38;5;241m.\u001b[39m_check_indexing_error(key)\n",
      "\u001b[0;31mKeyError\u001b[0m: 'Fabric'"
     ]
    }
   ],
   "source": [
    "df.plot(x=\"Fabric\", y=[\"fragments\", \"Height(in cm)\"], kind=\"bar\")"
   ]
  },
  {
   "cell_type": "code",
   "execution_count": 116,
   "id": "4612ce96",
   "metadata": {},
   "outputs": [
    {
     "data": {
      "text/plain": [
       "{datetime.date(2022, 9, 27): {'KBDC4': 29583983612203,\n",
       "  'KBDCF': 142546000000,\n",
       "  'SNDC1': 29584000000000,\n",
       "  'SNDC2': 238444000000,\n",
       "  'SNDC7': 314315000000,\n",
       "  'SNDC8': 2457600000000,\n",
       "  'TTDC1': 24199100000000,\n",
       "  'TTDC2': 13634900000000,\n",
       "  'TTDC7': 271382000000,\n",
       "  'TTDC8': 2860400000000},\n",
       " datetime.date(2022, 9, 28): {'KBDC4': 702598000000,\n",
       "  'KDBCF': 142804000000,\n",
       "  'SNDC1': 29614200000000,\n",
       "  'SNDC2': 252361000000,\n",
       "  'SNDC7': 316045000000,\n",
       "  'SNDC8': 338967648,\n",
       "  'TTDC1': 24228100000000,\n",
       "  'TTDC2': 13651000000000,\n",
       "  'TTDC7': 24021697543,\n",
       "  'TTDC8': 2876800000000}}"
      ]
     },
     "execution_count": 116,
     "metadata": {},
     "output_type": "execute_result"
    }
   ],
   "source": [
    "\n",
    "import pandas as pd\n",
    "import numpy as np\n",
    "WS = pd.read_excel('/Users/ishwarjangid/Downloads/Summary_27Nov.xlsx')\n",
    "selected_index = 3\n",
    "columns = [name for name in WS]\n",
    "selected_column = columns[selected_index-1]\n",
    "WS_np = np.array(WS)\n",
    "data = {}\n",
    "#select column index \n",
    "selected_index = 3\n",
    "for i in WS_np:\n",
    "    if i[0].date() not in data:\n",
    "        data[i[0].date()]={}\n",
    "    if i[1] not in data[i[0].date()]:\n",
    "        data[i[0].date()][i[1]] = i[selected_index]\n",
    "data"
   ]
  },
  {
   "cell_type": "code",
   "execution_count": 117,
   "id": "9092c9e8",
   "metadata": {},
   "outputs": [
    {
     "data": {
      "text/html": [
       "<div>\n",
       "<style scoped>\n",
       "    .dataframe tbody tr th:only-of-type {\n",
       "        vertical-align: middle;\n",
       "    }\n",
       "\n",
       "    .dataframe tbody tr th {\n",
       "        vertical-align: top;\n",
       "    }\n",
       "\n",
       "    .dataframe thead th {\n",
       "        text-align: right;\n",
       "    }\n",
       "</style>\n",
       "<table border=\"1\" class=\"dataframe\">\n",
       "  <thead>\n",
       "    <tr style=\"text-align: right;\">\n",
       "      <th></th>\n",
       "      <th>2022-09-27</th>\n",
       "      <th>2022-09-28</th>\n",
       "    </tr>\n",
       "  </thead>\n",
       "  <tbody>\n",
       "    <tr>\n",
       "      <th>KBDC4</th>\n",
       "      <td>2.958398e+13</td>\n",
       "      <td>7.025980e+11</td>\n",
       "    </tr>\n",
       "    <tr>\n",
       "      <th>KBDCF</th>\n",
       "      <td>1.425460e+11</td>\n",
       "      <td>NaN</td>\n",
       "    </tr>\n",
       "    <tr>\n",
       "      <th>SNDC1</th>\n",
       "      <td>2.958400e+13</td>\n",
       "      <td>2.961420e+13</td>\n",
       "    </tr>\n",
       "    <tr>\n",
       "      <th>SNDC2</th>\n",
       "      <td>2.384440e+11</td>\n",
       "      <td>2.523610e+11</td>\n",
       "    </tr>\n",
       "    <tr>\n",
       "      <th>SNDC7</th>\n",
       "      <td>3.143150e+11</td>\n",
       "      <td>3.160450e+11</td>\n",
       "    </tr>\n",
       "    <tr>\n",
       "      <th>SNDC8</th>\n",
       "      <td>2.457600e+12</td>\n",
       "      <td>3.389676e+08</td>\n",
       "    </tr>\n",
       "    <tr>\n",
       "      <th>TTDC1</th>\n",
       "      <td>2.419910e+13</td>\n",
       "      <td>2.422810e+13</td>\n",
       "    </tr>\n",
       "    <tr>\n",
       "      <th>TTDC2</th>\n",
       "      <td>1.363490e+13</td>\n",
       "      <td>1.365100e+13</td>\n",
       "    </tr>\n",
       "    <tr>\n",
       "      <th>TTDC7</th>\n",
       "      <td>2.713820e+11</td>\n",
       "      <td>2.402170e+10</td>\n",
       "    </tr>\n",
       "    <tr>\n",
       "      <th>TTDC8</th>\n",
       "      <td>2.860400e+12</td>\n",
       "      <td>2.876800e+12</td>\n",
       "    </tr>\n",
       "    <tr>\n",
       "      <th>KDBCF</th>\n",
       "      <td>NaN</td>\n",
       "      <td>1.428040e+11</td>\n",
       "    </tr>\n",
       "  </tbody>\n",
       "</table>\n",
       "</div>"
      ],
      "text/plain": [
       "         2022-09-27    2022-09-28\n",
       "KBDC4  2.958398e+13  7.025980e+11\n",
       "KBDCF  1.425460e+11           NaN\n",
       "SNDC1  2.958400e+13  2.961420e+13\n",
       "SNDC2  2.384440e+11  2.523610e+11\n",
       "SNDC7  3.143150e+11  3.160450e+11\n",
       "SNDC8  2.457600e+12  3.389676e+08\n",
       "TTDC1  2.419910e+13  2.422810e+13\n",
       "TTDC2  1.363490e+13  1.365100e+13\n",
       "TTDC7  2.713820e+11  2.402170e+10\n",
       "TTDC8  2.860400e+12  2.876800e+12\n",
       "KDBCF           NaN  1.428040e+11"
      ]
     },
     "execution_count": 117,
     "metadata": {},
     "output_type": "execute_result"
    }
   ],
   "source": [
    "#required df form to transform data\n",
    "df = pd.DataFrame(data)\n",
    "df"
   ]
  },
  {
   "cell_type": "code",
   "execution_count": 118,
   "id": "5347eabb",
   "metadata": {},
   "outputs": [
    {
     "data": {
      "text/html": [
       "<div>\n",
       "<style scoped>\n",
       "    .dataframe tbody tr th:only-of-type {\n",
       "        vertical-align: middle;\n",
       "    }\n",
       "\n",
       "    .dataframe tbody tr th {\n",
       "        vertical-align: top;\n",
       "    }\n",
       "\n",
       "    .dataframe thead th {\n",
       "        text-align: right;\n",
       "    }\n",
       "</style>\n",
       "<table border=\"1\" class=\"dataframe\">\n",
       "  <thead>\n",
       "    <tr style=\"text-align: right;\">\n",
       "      <th></th>\n",
       "      <th>KBDC4</th>\n",
       "      <th>KBDCF</th>\n",
       "      <th>SNDC1</th>\n",
       "      <th>SNDC2</th>\n",
       "      <th>SNDC7</th>\n",
       "      <th>SNDC8</th>\n",
       "      <th>TTDC1</th>\n",
       "      <th>TTDC2</th>\n",
       "      <th>TTDC7</th>\n",
       "      <th>TTDC8</th>\n",
       "      <th>KDBCF</th>\n",
       "    </tr>\n",
       "  </thead>\n",
       "  <tbody>\n",
       "    <tr>\n",
       "      <th>2022-09-27</th>\n",
       "      <td>2.958398e+13</td>\n",
       "      <td>1.425460e+11</td>\n",
       "      <td>2.958400e+13</td>\n",
       "      <td>2.384440e+11</td>\n",
       "      <td>3.143150e+11</td>\n",
       "      <td>2.457600e+12</td>\n",
       "      <td>2.419910e+13</td>\n",
       "      <td>1.363490e+13</td>\n",
       "      <td>2.713820e+11</td>\n",
       "      <td>2.860400e+12</td>\n",
       "      <td>NaN</td>\n",
       "    </tr>\n",
       "    <tr>\n",
       "      <th>2022-09-28</th>\n",
       "      <td>7.025980e+11</td>\n",
       "      <td>NaN</td>\n",
       "      <td>2.961420e+13</td>\n",
       "      <td>2.523610e+11</td>\n",
       "      <td>3.160450e+11</td>\n",
       "      <td>3.389676e+08</td>\n",
       "      <td>2.422810e+13</td>\n",
       "      <td>1.365100e+13</td>\n",
       "      <td>2.402170e+10</td>\n",
       "      <td>2.876800e+12</td>\n",
       "      <td>1.428040e+11</td>\n",
       "    </tr>\n",
       "  </tbody>\n",
       "</table>\n",
       "</div>"
      ],
      "text/plain": [
       "                   KBDC4         KBDCF         SNDC1         SNDC2  \\\n",
       "2022-09-27  2.958398e+13  1.425460e+11  2.958400e+13  2.384440e+11   \n",
       "2022-09-28  7.025980e+11           NaN  2.961420e+13  2.523610e+11   \n",
       "\n",
       "                   SNDC7         SNDC8         TTDC1         TTDC2  \\\n",
       "2022-09-27  3.143150e+11  2.457600e+12  2.419910e+13  1.363490e+13   \n",
       "2022-09-28  3.160450e+11  3.389676e+08  2.422810e+13  1.365100e+13   \n",
       "\n",
       "                   TTDC7         TTDC8         KDBCF  \n",
       "2022-09-27  2.713820e+11  2.860400e+12           NaN  \n",
       "2022-09-28  2.402170e+10  2.876800e+12  1.428040e+11  "
      ]
     },
     "execution_count": 118,
     "metadata": {},
     "output_type": "execute_result"
    }
   ],
   "source": [
    "#transpose to change axis of data\n",
    "tf = df.T\n",
    "tf"
   ]
  },
  {
   "cell_type": "code",
   "execution_count": 119,
   "id": "42deec90",
   "metadata": {},
   "outputs": [
    {
     "data": {
      "text/plain": [
       "<AxesSubplot:title={'center':'Last_Errors'}>"
      ]
     },
     "execution_count": 119,
     "metadata": {},
     "output_type": "execute_result"
    },
    {
     "data": {
      "image/png": "[encoded data removed]",
      "text/plain": [
       "<Figure size 432x288 with 1 Axes>"
      ]
     },
     "metadata": {
      "needs_background": "light"
     },
     "output_type": "display_data"
    }
   ],
   "source": [
    "# plotting needed graph\n",
    "tf.plot(y=['KBDC4',\n",
    "'KDBCF',\n",
    "'SNDC1',\n",
    "'SNDC2',\n",
    "'SNDC7',\n",
    "'SNDC8',\n",
    "'TTDC1',\n",
    "'TTDC2',\n",
    "'TTDC7',\n",
    "'TTDC8',\n",
    "], kind=\"bar\", title=selected_column)"
   ]
  },
  {
   "cell_type": "code",
   "execution_count": 122,
   "id": "2ba2d7ee",
   "metadata": {},
   "outputs": [
    {
     "data": {
      "text/plain": [
       "<AxesSubplot:title={'center':'Last_Errors'}>"
      ]
     },
     "execution_count": 122,
     "metadata": {},
     "output_type": "execute_result"
    },
    {
     "data": {
      "image/png": "[encoded data removed]",
      "text/plain": [
       "<Figure size 432x288 with 1 Axes>"
      ]
     },
     "metadata": {
      "needs_background": "light"
     },
     "output_type": "display_data"
    }
   ],
   "source": [
    "import pandas as pd\n",
    "import numpy as np\n",
    "WS = pd.read_excel('/Users/ishwarjangid/Downloads/Summary_27Nov.xlsx')\n",
    "selected_index = 3\n",
    "columns = [name for name in WS]\n",
    "selected_column = columns[selected_index-1]\n",
    "WS_np = np.array(WS)\n",
    "data = {}\n",
    "#select column index \n",
    "selected_index = 3\n",
    "for i in WS_np:\n",
    "    if i[0].date() not in data:\n",
    "        data[i[0].date()]={}\n",
    "    if i[1] not in data[i[0].date()]:\n",
    "        data[i[0].date()][i[1]] = i[selected_index]\n",
    "df = pd.DataFrame(data)\n",
    "tf = df.T\n",
    "tf.plot(y=['KBDC4',\n",
    "'KDBCF',\n",
    "'SNDC1',\n",
    "'SNDC2',\n",
    "'SNDC7',\n",
    "'SNDC8',\n",
    "'TTDC1',\n",
    "'TTDC2',\n",
    "'TTDC7',\n",
    "'TTDC8',\n",
    "], kind=\"bar\", title=selected_column)"
   ]
  },
  {
   "cell_type": "code",
   "execution_count": 123,
   "id": "35e0b445",
   "metadata": {},
   "outputs": [],
   "source": [
    "WS = pd.read_excel('/Users/ishwarjangid/Downloads/Summary_27Nov.xlsx')\n",
    "selected_index = 3\n",
    "columns = [name for name in WS]"
   ]
  },
  {
   "cell_type": "code",
   "execution_count": 128,
   "id": "a52000da",
   "metadata": {},
   "outputs": [],
   "source": [
    "selected_column = columns[selected_index-1]"
   ]
  },
  {
   "cell_type": "code",
   "execution_count": 130,
   "id": "ba5bbb49",
   "metadata": {},
   "outputs": [],
   "source": [
    "tf = df.T"
   ]
  },
  {
   "cell_type": "code",
   "execution_count": 131,
   "id": "c494d25d",
   "metadata": {},
   "outputs": [
    {
     "data": {
      "text/html": [
       "<div>\n",
       "<style scoped>\n",
       "    .dataframe tbody tr th:only-of-type {\n",
       "        vertical-align: middle;\n",
       "    }\n",
       "\n",
       "    .dataframe tbody tr th {\n",
       "        vertical-align: top;\n",
       "    }\n",
       "\n",
       "    .dataframe thead th {\n",
       "        text-align: right;\n",
       "    }\n",
       "</style>\n",
       "<table border=\"1\" class=\"dataframe\">\n",
       "  <thead>\n",
       "    <tr style=\"text-align: right;\">\n",
       "      <th></th>\n",
       "      <th>KBDC4</th>\n",
       "      <th>KBDCF</th>\n",
       "      <th>SNDC1</th>\n",
       "      <th>SNDC2</th>\n",
       "      <th>SNDC7</th>\n",
       "      <th>SNDC8</th>\n",
       "      <th>TTDC1</th>\n",
       "      <th>TTDC2</th>\n",
       "      <th>TTDC7</th>\n",
       "      <th>TTDC8</th>\n",
       "      <th>KDBCF</th>\n",
       "    </tr>\n",
       "  </thead>\n",
       "  <tbody>\n",
       "    <tr>\n",
       "      <th>2022-09-27</th>\n",
       "      <td>2.958398e+13</td>\n",
       "      <td>1.425460e+11</td>\n",
       "      <td>2.958400e+13</td>\n",
       "      <td>2.384440e+11</td>\n",
       "      <td>3.143150e+11</td>\n",
       "      <td>2.457600e+12</td>\n",
       "      <td>2.419910e+13</td>\n",
       "      <td>1.363490e+13</td>\n",
       "      <td>2.713820e+11</td>\n",
       "      <td>2.860400e+12</td>\n",
       "      <td>NaN</td>\n",
       "    </tr>\n",
       "    <tr>\n",
       "      <th>2022-09-28</th>\n",
       "      <td>7.025980e+11</td>\n",
       "      <td>NaN</td>\n",
       "      <td>2.961420e+13</td>\n",
       "      <td>2.523610e+11</td>\n",
       "      <td>3.160450e+11</td>\n",
       "      <td>3.389676e+08</td>\n",
       "      <td>2.422810e+13</td>\n",
       "      <td>1.365100e+13</td>\n",
       "      <td>2.402170e+10</td>\n",
       "      <td>2.876800e+12</td>\n",
       "      <td>1.428040e+11</td>\n",
       "    </tr>\n",
       "  </tbody>\n",
       "</table>\n",
       "</div>"
      ],
      "text/plain": [
       "                   KBDC4         KBDCF         SNDC1         SNDC2  \\\n",
       "2022-09-27  2.958398e+13  1.425460e+11  2.958400e+13  2.384440e+11   \n",
       "2022-09-28  7.025980e+11           NaN  2.961420e+13  2.523610e+11   \n",
       "\n",
       "                   SNDC7         SNDC8         TTDC1         TTDC2  \\\n",
       "2022-09-27  3.143150e+11  2.457600e+12  2.419910e+13  1.363490e+13   \n",
       "2022-09-28  3.160450e+11  3.389676e+08  2.422810e+13  1.365100e+13   \n",
       "\n",
       "                   TTDC7         TTDC8         KDBCF  \n",
       "2022-09-27  2.713820e+11  2.860400e+12           NaN  \n",
       "2022-09-28  2.402170e+10  2.876800e+12  1.428040e+11  "
      ]
     },
     "execution_count": 131,
     "metadata": {},
     "output_type": "execute_result"
    }
   ],
   "source": [
    "tf"
   ]
  },
  {
   "cell_type": "code",
   "execution_count": 132,
   "id": "7e3d7069",
   "metadata": {},
   "outputs": [
    {
     "data": {
      "text/plain": [
       "<AxesSubplot:>"
      ]
     },
     "execution_count": 132,
     "metadata": {},
     "output_type": "execute_result"
    },
    {
     "data": {
      "image/png": "[encoded data removed]",
      "text/plain": [
       "<Figure size 432x288 with 1 Axes>"
      ]
     },
     "metadata": {
      "needs_background": "light"
     },
     "output_type": "display_data"
    }
   ],
   "source": [
    "tf.plot.bar()"
   ]
  },
  {
   "cell_type": "code",
   "execution_count": 163,
   "id": "582f4409",
   "metadata": {},
   "outputs": [
    {
     "data": {
      "text/plain": [
       "<AxesSubplot:title={'center':'txOversizePkts'}>"
      ]
     },
     "execution_count": 163,
     "metadata": {},
     "output_type": "execute_result"
    },
    {
     "data": {
      "image/png": "[encoded data removed]",
      "text/plain": [
       "<Figure size 432x288 with 1 Axes>"
      ]
     },
     "metadata": {
      "needs_background": "light"
     },
     "output_type": "display_data"
    }
   ],
   "source": [
    "import pandas as pd\n",
    "import numpy as np\n",
    "\n",
    "Y_AXIS_Column_index =25\n",
    "fabric_indices = [0,1,2]\n",
    "WS = pd.read_excel('/Users/ishwarjangid/Downloads/Summary_27Nov.xlsx')\n",
    "columns = [name for name in WS]\n",
    "\n",
    "Y_AXIS_Column_name = columns[Y_AXIS_Column_index-1]\n",
    "WS_np = np.array(WS)\n",
    "data = {}\n",
    "#select column index \n",
    "#column at index 0 is date column\n",
    "X_AXIS_Column_index = 0\n",
    "Legends_Index = 1\n",
    "for i in WS_np:\n",
    "    date = i[X_AXIS_Column_index].date()\n",
    "    if  date not in data:\n",
    "        data[date]={}\n",
    "    Legend = i[Legends_Index]\n",
    "    if Legend not in data[date]:\n",
    "        data[date][Legend] = i[Y_AXIS_Column_index]\n",
    "\n",
    "df = pd.DataFrame(data)\n",
    "tf = df.T\n",
    "tf.plot( kind=\"bar\", title=Y_AXIS_Column_name, [])"
   ]
  },
  {
   "cell_type": "code",
   "execution_count": 233,
   "id": "db1b5ef9",
   "metadata": {},
   "outputs": [
    {
     "ename": "FileNotFoundError",
     "evalue": "[Errno 2] No such file or directory: 'Summary_27Nov.xlsx'",
     "output_type": "error",
     "traceback": [
      "\u001b[0;31m---------------------------------------------------------------------------\u001b[0m",
      "\u001b[0;31mFileNotFoundError\u001b[0m                         Traceback (most recent call last)",
      "Input \u001b[0;32mIn [233]\u001b[0m, in \u001b[0;36m<cell line: 5>\u001b[0;34m()\u001b[0m\n\u001b[1;32m      2\u001b[0m \u001b[38;5;28;01mimport\u001b[39;00m \u001b[38;5;21;01mnumpy\u001b[39;00m \u001b[38;5;28;01mas\u001b[39;00m \u001b[38;5;21;01mnp\u001b[39;00m\n\u001b[1;32m      4\u001b[0m file_name \u001b[38;5;241m=\u001b[39m \u001b[38;5;124m\"\u001b[39m\u001b[38;5;124mSummary_27Nov.xlsx\u001b[39m\u001b[38;5;124m\"\u001b[39m\n\u001b[0;32m----> 5\u001b[0m WS \u001b[38;5;241m=\u001b[39m \u001b[43mpd\u001b[49m\u001b[38;5;241;43m.\u001b[39;49m\u001b[43mread_excel\u001b[49m\u001b[43m(\u001b[49m\u001b[43mfile_name\u001b[49m\u001b[43m)\u001b[49m\n\u001b[1;32m      6\u001b[0m WS_np \u001b[38;5;241m=\u001b[39m np\u001b[38;5;241m.\u001b[39marray(WS)\n\u001b[1;32m      7\u001b[0m LEGENDS_INDEX\u001b[38;5;241m=\u001b[39m\u001b[38;5;241m1\u001b[39m\n",
      "File \u001b[0;32m~/Desktop/test/ML-AI-and-Data-Science-/env/lib/python3.10/site-packages/pandas/util/_decorators.py:311\u001b[0m, in \u001b[0;36mdeprecate_nonkeyword_arguments.<locals>.decorate.<locals>.wrapper\u001b[0;34m(*args, **kwargs)\u001b[0m\n\u001b[1;32m    305\u001b[0m \u001b[38;5;28;01mif\u001b[39;00m \u001b[38;5;28mlen\u001b[39m(args) \u001b[38;5;241m>\u001b[39m num_allow_args:\n\u001b[1;32m    306\u001b[0m     warnings\u001b[38;5;241m.\u001b[39mwarn(\n\u001b[1;32m    307\u001b[0m         msg\u001b[38;5;241m.\u001b[39mformat(arguments\u001b[38;5;241m=\u001b[39marguments),\n\u001b[1;32m    308\u001b[0m         \u001b[38;5;167;01mFutureWarning\u001b[39;00m,\n\u001b[1;32m    309\u001b[0m         stacklevel\u001b[38;5;241m=\u001b[39mstacklevel,\n\u001b[1;32m    310\u001b[0m     )\n\u001b[0;32m--> 311\u001b[0m \u001b[38;5;28;01mreturn\u001b[39;00m \u001b[43mfunc\u001b[49m\u001b[43m(\u001b[49m\u001b[38;5;241;43m*\u001b[39;49m\u001b[43margs\u001b[49m\u001b[43m,\u001b[49m\u001b[43m \u001b[49m\u001b[38;5;241;43m*\u001b[39;49m\u001b[38;5;241;43m*\u001b[39;49m\u001b[43mkwargs\u001b[49m\u001b[43m)\u001b[49m\n",
      "File \u001b[0;32m~/Desktop/test/ML-AI-and-Data-Science-/env/lib/python3.10/site-packages/pandas/io/excel/_base.py:457\u001b[0m, in \u001b[0;36mread_excel\u001b[0;34m(io, sheet_name, header, names, index_col, usecols, squeeze, dtype, engine, converters, true_values, false_values, skiprows, nrows, na_values, keep_default_na, na_filter, verbose, parse_dates, date_parser, thousands, decimal, comment, skipfooter, convert_float, mangle_dupe_cols, storage_options)\u001b[0m\n\u001b[1;32m    455\u001b[0m \u001b[38;5;28;01mif\u001b[39;00m \u001b[38;5;129;01mnot\u001b[39;00m \u001b[38;5;28misinstance\u001b[39m(io, ExcelFile):\n\u001b[1;32m    456\u001b[0m     should_close \u001b[38;5;241m=\u001b[39m \u001b[38;5;28;01mTrue\u001b[39;00m\n\u001b[0;32m--> 457\u001b[0m     io \u001b[38;5;241m=\u001b[39m \u001b[43mExcelFile\u001b[49m\u001b[43m(\u001b[49m\u001b[43mio\u001b[49m\u001b[43m,\u001b[49m\u001b[43m \u001b[49m\u001b[43mstorage_options\u001b[49m\u001b[38;5;241;43m=\u001b[39;49m\u001b[43mstorage_options\u001b[49m\u001b[43m,\u001b[49m\u001b[43m \u001b[49m\u001b[43mengine\u001b[49m\u001b[38;5;241;43m=\u001b[39;49m\u001b[43mengine\u001b[49m\u001b[43m)\u001b[49m\n\u001b[1;32m    458\u001b[0m \u001b[38;5;28;01melif\u001b[39;00m engine \u001b[38;5;129;01mand\u001b[39;00m engine \u001b[38;5;241m!=\u001b[39m io\u001b[38;5;241m.\u001b[39mengine:\n\u001b[1;32m    459\u001b[0m     \u001b[38;5;28;01mraise\u001b[39;00m \u001b[38;5;167;01mValueError\u001b[39;00m(\n\u001b[1;32m    460\u001b[0m         \u001b[38;5;124m\"\u001b[39m\u001b[38;5;124mEngine should not be specified when passing \u001b[39m\u001b[38;5;124m\"\u001b[39m\n\u001b[1;32m    461\u001b[0m         \u001b[38;5;124m\"\u001b[39m\u001b[38;5;124man ExcelFile - ExcelFile already has the engine set\u001b[39m\u001b[38;5;124m\"\u001b[39m\n\u001b[1;32m    462\u001b[0m     )\n",
      "File \u001b[0;32m~/Desktop/test/ML-AI-and-Data-Science-/env/lib/python3.10/site-packages/pandas/io/excel/_base.py:1376\u001b[0m, in \u001b[0;36mExcelFile.__init__\u001b[0;34m(self, path_or_buffer, engine, storage_options)\u001b[0m\n\u001b[1;32m   1374\u001b[0m     ext \u001b[38;5;241m=\u001b[39m \u001b[38;5;124m\"\u001b[39m\u001b[38;5;124mxls\u001b[39m\u001b[38;5;124m\"\u001b[39m\n\u001b[1;32m   1375\u001b[0m \u001b[38;5;28;01melse\u001b[39;00m:\n\u001b[0;32m-> 1376\u001b[0m     ext \u001b[38;5;241m=\u001b[39m \u001b[43minspect_excel_format\u001b[49m\u001b[43m(\u001b[49m\n\u001b[1;32m   1377\u001b[0m \u001b[43m        \u001b[49m\u001b[43mcontent_or_path\u001b[49m\u001b[38;5;241;43m=\u001b[39;49m\u001b[43mpath_or_buffer\u001b[49m\u001b[43m,\u001b[49m\u001b[43m \u001b[49m\u001b[43mstorage_options\u001b[49m\u001b[38;5;241;43m=\u001b[39;49m\u001b[43mstorage_options\u001b[49m\n\u001b[1;32m   1378\u001b[0m \u001b[43m    \u001b[49m\u001b[43m)\u001b[49m\n\u001b[1;32m   1379\u001b[0m     \u001b[38;5;28;01mif\u001b[39;00m ext \u001b[38;5;129;01mis\u001b[39;00m \u001b[38;5;28;01mNone\u001b[39;00m:\n\u001b[1;32m   1380\u001b[0m         \u001b[38;5;28;01mraise\u001b[39;00m \u001b[38;5;167;01mValueError\u001b[39;00m(\n\u001b[1;32m   1381\u001b[0m             \u001b[38;5;124m\"\u001b[39m\u001b[38;5;124mExcel file format cannot be determined, you must specify \u001b[39m\u001b[38;5;124m\"\u001b[39m\n\u001b[1;32m   1382\u001b[0m             \u001b[38;5;124m\"\u001b[39m\u001b[38;5;124man engine manually.\u001b[39m\u001b[38;5;124m\"\u001b[39m\n\u001b[1;32m   1383\u001b[0m         )\n",
      "File \u001b[0;32m~/Desktop/test/ML-AI-and-Data-Science-/env/lib/python3.10/site-packages/pandas/io/excel/_base.py:1250\u001b[0m, in \u001b[0;36minspect_excel_format\u001b[0;34m(content_or_path, storage_options)\u001b[0m\n\u001b[1;32m   1247\u001b[0m \u001b[38;5;28;01mif\u001b[39;00m \u001b[38;5;28misinstance\u001b[39m(content_or_path, \u001b[38;5;28mbytes\u001b[39m):\n\u001b[1;32m   1248\u001b[0m     content_or_path \u001b[38;5;241m=\u001b[39m BytesIO(content_or_path)\n\u001b[0;32m-> 1250\u001b[0m \u001b[38;5;28;01mwith\u001b[39;00m \u001b[43mget_handle\u001b[49m\u001b[43m(\u001b[49m\n\u001b[1;32m   1251\u001b[0m \u001b[43m    \u001b[49m\u001b[43mcontent_or_path\u001b[49m\u001b[43m,\u001b[49m\u001b[43m \u001b[49m\u001b[38;5;124;43m\"\u001b[39;49m\u001b[38;5;124;43mrb\u001b[39;49m\u001b[38;5;124;43m\"\u001b[39;49m\u001b[43m,\u001b[49m\u001b[43m \u001b[49m\u001b[43mstorage_options\u001b[49m\u001b[38;5;241;43m=\u001b[39;49m\u001b[43mstorage_options\u001b[49m\u001b[43m,\u001b[49m\u001b[43m \u001b[49m\u001b[43mis_text\u001b[49m\u001b[38;5;241;43m=\u001b[39;49m\u001b[38;5;28;43;01mFalse\u001b[39;49;00m\n\u001b[1;32m   1252\u001b[0m \u001b[43m\u001b[49m\u001b[43m)\u001b[49m \u001b[38;5;28;01mas\u001b[39;00m handle:\n\u001b[1;32m   1253\u001b[0m     stream \u001b[38;5;241m=\u001b[39m handle\u001b[38;5;241m.\u001b[39mhandle\n\u001b[1;32m   1254\u001b[0m     stream\u001b[38;5;241m.\u001b[39mseek(\u001b[38;5;241m0\u001b[39m)\n",
      "File \u001b[0;32m~/Desktop/test/ML-AI-and-Data-Science-/env/lib/python3.10/site-packages/pandas/io/common.py:795\u001b[0m, in \u001b[0;36mget_handle\u001b[0;34m(path_or_buf, mode, encoding, compression, memory_map, is_text, errors, storage_options)\u001b[0m\n\u001b[1;32m    786\u001b[0m         handle \u001b[38;5;241m=\u001b[39m \u001b[38;5;28mopen\u001b[39m(\n\u001b[1;32m    787\u001b[0m             handle,\n\u001b[1;32m    788\u001b[0m             ioargs\u001b[38;5;241m.\u001b[39mmode,\n\u001b[0;32m   (...)\u001b[0m\n\u001b[1;32m    791\u001b[0m             newline\u001b[38;5;241m=\u001b[39m\u001b[38;5;124m\"\u001b[39m\u001b[38;5;124m\"\u001b[39m,\n\u001b[1;32m    792\u001b[0m         )\n\u001b[1;32m    793\u001b[0m     \u001b[38;5;28;01melse\u001b[39;00m:\n\u001b[1;32m    794\u001b[0m         \u001b[38;5;66;03m# Binary mode\u001b[39;00m\n\u001b[0;32m--> 795\u001b[0m         handle \u001b[38;5;241m=\u001b[39m \u001b[38;5;28;43mopen\u001b[39;49m\u001b[43m(\u001b[49m\u001b[43mhandle\u001b[49m\u001b[43m,\u001b[49m\u001b[43m \u001b[49m\u001b[43mioargs\u001b[49m\u001b[38;5;241;43m.\u001b[39;49m\u001b[43mmode\u001b[49m\u001b[43m)\u001b[49m\n\u001b[1;32m    796\u001b[0m     handles\u001b[38;5;241m.\u001b[39mappend(handle)\n\u001b[1;32m    798\u001b[0m \u001b[38;5;66;03m# Convert BytesIO or file objects passed with an encoding\u001b[39;00m\n",
      "\u001b[0;31mFileNotFoundError\u001b[0m: [Errno 2] No such file or directory: 'Summary_27Nov.xlsx'"
     ]
    }
   ],
   "source": [
    "import pandas as pd\n",
    "import numpy as np\n",
    "\n",
    "file_name = \"Summary_27Nov.xlsx\"\n",
    "WS = pd.read_excel(file_name)\n",
    "WS_np = np.array(WS)\n",
    "LEGENDS_INDEX=1\n",
    "Y_AXIS_COLUMN_INDEX=2\n",
    "i = 0\n",
    "for column in WS:\n",
    "    if i == Y_AXIS_COLUMN_INDEX:\n",
    "        Y_AXIS_COLUMN_NAME = column\n",
    "    i+=1\n",
    "Y_AXIS_INDICES = [2,3,7]\n",
    "data = {}\n",
    "X_AXIS_COLUMN_INDEX = 0\n",
    "for i in WS_np:\n",
    "    date = i[X_AXIS_COLUMN_INDEX].date()\n",
    "    if  date not in data:\n",
    "        data[date]={}\n",
    "    legend = i[LEGENDS_INDEX]\n",
    "    if legend not in data[date]:\n",
    "        data[date][legend] = i[Y_AXIS_COLUMN_INDEX]\n",
    "    # plotting needed graph\n",
    "df = pd.DataFrame(data)\n",
    "tf = df.T\n",
    "plot = tf.plot(kind=\"bar\", y=Y_AXIS_INDICES,title=Y_AXIS_COLUMN_NAME)"
   ]
  },
  {
   "cell_type": "code",
   "execution_count": null,
   "id": "20662283",
   "metadata": {},
   "outputs": [],
   "source": []
  },
  {
   "cell_type": "code",
   "execution_count": null,
   "id": "fb943747",
   "metadata": {},
   "outputs": [],
   "source": []
  },
  {
   "cell_type": "code",
   "execution_count": null,
   "id": "b167100a",
   "metadata": {},
   "outputs": [],
   "source": []
  },
  {
   "cell_type": "code",
   "execution_count": null,
   "id": "8b43ffad",
   "metadata": {},
   "outputs": [],
   "source": []
  },
  {
   "cell_type": "code",
   "execution_count": null,
   "id": "aaa10702",
   "metadata": {},
   "outputs": [],
   "source": []
  },
  {
   "cell_type": "code",
   "execution_count": null,
   "id": "5c64a760",
   "metadata": {},
   "outputs": [],
   "source": []
  },
  {
   "cell_type": "code",
   "execution_count": null,
   "id": "6ec7b346",
   "metadata": {},
   "outputs": [],
   "source": []
  },
  {
   "cell_type": "code",
   "execution_count": null,
   "id": "6e6bbc0f",
   "metadata": {},
   "outputs": [],
   "source": [
    "\n"
   ]
  }
 ],
 "metadata": {
  "kernelspec": {
   "display_name": "Python 3 (ipykernel)",
   "language": "python",
   "name": "python3"
  },
  "language_info": {
   "codemirror_mode": {
    "name": "ipython",
    "version": 3
   },
   "file_extension": ".py",
   "mimetype": "text/x-python",
   "name": "python",
   "nbconvert_exporter": "python",
   "pygments_lexer": "ipython3",
   "version": "3.10.4"
  }
 },
 "nbformat": 4,
 "nbformat_minor": 5
}
