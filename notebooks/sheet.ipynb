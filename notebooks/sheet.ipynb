{
 "cells": [
  {
   "cell_type": "code",
   "execution_count": 9,
   "id": "b0d97bef",
   "metadata": {},
   "outputs": [],
   "source": [
    "PATH = \"/Users/ishwarjangid/Downloads/Summary_27Nov.xlsx\"\n"
   ]
  },
  {
   "cell_type": "code",
   "execution_count": 10,
   "id": "92002cad",
   "metadata": {},
   "outputs": [],
   "source": [
    "import pandas as pd"
   ]
  },
  {
   "cell_type": "code",
   "execution_count": 11,
   "id": "ecdcd743",
   "metadata": {},
   "outputs": [],
   "source": [
    "import numpy as np\n",
    "import matplotlib.pyplot as plt\n"
   ]
  },
  {
   "cell_type": "code",
   "execution_count": 17,
   "id": "a0eaa89d",
   "metadata": {},
   "outputs": [],
   "source": [
    "df = pd.read_excel(PATH)\n"
   ]
  },
  {
   "cell_type": "code",
   "execution_count": 18,
   "id": "de308bf8",
   "metadata": {},
   "outputs": [
    {
     "data": {
      "text/html": [
       "<div>\n",
       "<style scoped>\n",
       "    .dataframe tbody tr th:only-of-type {\n",
       "        vertical-align: middle;\n",
       "    }\n",
       "\n",
       "    .dataframe tbody tr th {\n",
       "        vertical-align: top;\n",
       "    }\n",
       "\n",
       "    .dataframe thead th {\n",
       "        text-align: right;\n",
       "    }\n",
       "</style>\n",
       "<table border=\"1\" class=\"dataframe\">\n",
       "  <thead>\n",
       "    <tr style=\"text-align: right;\">\n",
       "      <th></th>\n",
       "      <th>Date</th>\n",
       "      <th>Fabric</th>\n",
       "      <th>Last_Errors</th>\n",
       "      <th>broadcastPkts</th>\n",
       "      <th>cRCAlignErrors</th>\n",
       "      <th>collisions</th>\n",
       "      <th>dropEvents</th>\n",
       "      <th>fragments</th>\n",
       "      <th>jabbers</th>\n",
       "      <th>multicastPkts</th>\n",
       "      <th>...</th>\n",
       "      <th>pkts512to1023Octets</th>\n",
       "      <th>pkts64Octets</th>\n",
       "      <th>pkts65to127Octets</th>\n",
       "      <th>rXNoErrors</th>\n",
       "      <th>rxGiantPkts</th>\n",
       "      <th>rxOversizePkts</th>\n",
       "      <th>tXNoErrors</th>\n",
       "      <th>txGiantPkts</th>\n",
       "      <th>txOversizePkts</th>\n",
       "      <th>undersizePkts</th>\n",
       "    </tr>\n",
       "  </thead>\n",
       "  <tbody>\n",
       "    <tr>\n",
       "      <th>0</th>\n",
       "      <td>2022-09-27</td>\n",
       "      <td>KBDC4</td>\n",
       "      <td>80812509284</td>\n",
       "      <td>29583983612203</td>\n",
       "      <td>94639235</td>\n",
       "      <td>0</td>\n",
       "      <td>0</td>\n",
       "      <td>17</td>\n",
       "      <td>17675</td>\n",
       "      <td>179071427525884</td>\n",
       "      <td>...</td>\n",
       "      <td>330423694072003</td>\n",
       "      <td>75020394433875</td>\n",
       "      <td>1470912628711340</td>\n",
       "      <td>4890009167162720</td>\n",
       "      <td>71785405</td>\n",
       "      <td>709779953901211</td>\n",
       "      <td>5705134654698320</td>\n",
       "      <td>0</td>\n",
       "      <td>937603462258379</td>\n",
       "      <td>0</td>\n",
       "    </tr>\n",
       "    <tr>\n",
       "      <th>1</th>\n",
       "      <td>2022-09-27</td>\n",
       "      <td>KBDCF</td>\n",
       "      <td>42946070513</td>\n",
       "      <td>142546000000</td>\n",
       "      <td>4994</td>\n",
       "      <td>0</td>\n",
       "      <td>0</td>\n",
       "      <td>0</td>\n",
       "      <td>6</td>\n",
       "      <td>5551460000000</td>\n",
       "      <td>...</td>\n",
       "      <td>3888500000000</td>\n",
       "      <td>374192000000</td>\n",
       "      <td>6386250000000</td>\n",
       "      <td>16762600000000</td>\n",
       "      <td>6</td>\n",
       "      <td>4617700000000</td>\n",
       "      <td>19113000000000</td>\n",
       "      <td>0</td>\n",
       "      <td>5230240000000</td>\n",
       "      <td>0</td>\n",
       "    </tr>\n",
       "    <tr>\n",
       "      <th>2</th>\n",
       "      <td>2022-09-27</td>\n",
       "      <td>SNDC1</td>\n",
       "      <td>161625000000</td>\n",
       "      <td>29584000000000</td>\n",
       "      <td>94639235</td>\n",
       "      <td>0</td>\n",
       "      <td>0</td>\n",
       "      <td>17</td>\n",
       "      <td>17675</td>\n",
       "      <td>179071000000000</td>\n",
       "      <td>...</td>\n",
       "      <td>330424000000000</td>\n",
       "      <td>75020400000000</td>\n",
       "      <td>1470910000000000</td>\n",
       "      <td>4890010000000000</td>\n",
       "      <td>71785405</td>\n",
       "      <td>709780000000000</td>\n",
       "      <td>5705130000000000</td>\n",
       "      <td>0</td>\n",
       "      <td>937603000000000</td>\n",
       "      <td>0</td>\n",
       "    </tr>\n",
       "    <tr>\n",
       "      <th>3</th>\n",
       "      <td>2022-09-27</td>\n",
       "      <td>SNDC2</td>\n",
       "      <td>2187591734</td>\n",
       "      <td>238444000000</td>\n",
       "      <td>152893</td>\n",
       "      <td>0</td>\n",
       "      <td>0</td>\n",
       "      <td>0</td>\n",
       "      <td>2</td>\n",
       "      <td>584365000000</td>\n",
       "      <td>...</td>\n",
       "      <td>18331000000000</td>\n",
       "      <td>1051950000000</td>\n",
       "      <td>49243700000000</td>\n",
       "      <td>269166000000000</td>\n",
       "      <td>70</td>\n",
       "      <td>27159500000000</td>\n",
       "      <td>284518000000000</td>\n",
       "      <td>0</td>\n",
       "      <td>27196900000000</td>\n",
       "      <td>0</td>\n",
       "    </tr>\n",
       "    <tr>\n",
       "      <th>4</th>\n",
       "      <td>2022-09-27</td>\n",
       "      <td>SNDC7</td>\n",
       "      <td>8612479264</td>\n",
       "      <td>314315000000</td>\n",
       "      <td>2315</td>\n",
       "      <td>0</td>\n",
       "      <td>0</td>\n",
       "      <td>0</td>\n",
       "      <td>320</td>\n",
       "      <td>2597490000000</td>\n",
       "      <td>...</td>\n",
       "      <td>4259710000000</td>\n",
       "      <td>107027000000</td>\n",
       "      <td>6291000000000</td>\n",
       "      <td>21345500000000</td>\n",
       "      <td>320</td>\n",
       "      <td>6724960000000</td>\n",
       "      <td>23316400000000</td>\n",
       "      <td>0</td>\n",
       "      <td>7044650000000</td>\n",
       "      <td>0</td>\n",
       "    </tr>\n",
       "  </tbody>\n",
       "</table>\n",
       "<p>5 rows × 26 columns</p>\n",
       "</div>"
      ],
      "text/plain": [
       "        Date Fabric   Last_Errors   broadcastPkts  cRCAlignErrors  collisions  \\\n",
       "0 2022-09-27  KBDC4   80812509284  29583983612203        94639235           0   \n",
       "1 2022-09-27  KBDCF   42946070513    142546000000            4994           0   \n",
       "2 2022-09-27  SNDC1  161625000000  29584000000000        94639235           0   \n",
       "3 2022-09-27  SNDC2    2187591734    238444000000          152893           0   \n",
       "4 2022-09-27  SNDC7    8612479264    314315000000            2315           0   \n",
       "\n",
       "   dropEvents  fragments  jabbers    multicastPkts  ... pkts512to1023Octets  \\\n",
       "0           0         17    17675  179071427525884  ...     330423694072003   \n",
       "1           0          0        6    5551460000000  ...       3888500000000   \n",
       "2           0         17    17675  179071000000000  ...     330424000000000   \n",
       "3           0          0        2     584365000000  ...      18331000000000   \n",
       "4           0          0      320    2597490000000  ...       4259710000000   \n",
       "\n",
       "     pkts64Octets  pkts65to127Octets        rXNoErrors  rxGiantPkts  \\\n",
       "0  75020394433875   1470912628711340  4890009167162720     71785405   \n",
       "1    374192000000      6386250000000    16762600000000            6   \n",
       "2  75020400000000   1470910000000000  4890010000000000     71785405   \n",
       "3   1051950000000     49243700000000   269166000000000           70   \n",
       "4    107027000000      6291000000000    21345500000000          320   \n",
       "\n",
       "    rxOversizePkts        tXNoErrors  txGiantPkts   txOversizePkts  \\\n",
       "0  709779953901211  5705134654698320            0  937603462258379   \n",
       "1    4617700000000    19113000000000            0    5230240000000   \n",
       "2  709780000000000  5705130000000000            0  937603000000000   \n",
       "3   27159500000000   284518000000000            0   27196900000000   \n",
       "4    6724960000000    23316400000000            0    7044650000000   \n",
       "\n",
       "   undersizePkts  \n",
       "0              0  \n",
       "1              0  \n",
       "2              0  \n",
       "3              0  \n",
       "4              0  \n",
       "\n",
       "[5 rows x 26 columns]"
      ]
     },
     "execution_count": 18,
     "metadata": {},
     "output_type": "execute_result"
    }
   ],
   "source": [
    "df.head()"
   ]
  },
  {
   "cell_type": "code",
   "execution_count": 36,
   "id": "2c81de18",
   "metadata": {},
   "outputs": [
    {
     "data": {
      "text/html": [
       "<div>\n",
       "<style scoped>\n",
       "    .dataframe tbody tr th:only-of-type {\n",
       "        vertical-align: middle;\n",
       "    }\n",
       "\n",
       "    .dataframe tbody tr th {\n",
       "        vertical-align: top;\n",
       "    }\n",
       "\n",
       "    .dataframe thead th {\n",
       "        text-align: right;\n",
       "    }\n",
       "</style>\n",
       "<table border=\"1\" class=\"dataframe\">\n",
       "  <thead>\n",
       "    <tr style=\"text-align: right;\">\n",
       "      <th></th>\n",
       "      <th>Date</th>\n",
       "      <th>Fabric</th>\n",
       "      <th>Last_Errors</th>\n",
       "      <th>broadcastPkts</th>\n",
       "      <th>cRCAlignErrors</th>\n",
       "      <th>collisions</th>\n",
       "      <th>dropEvents</th>\n",
       "      <th>fragments</th>\n",
       "      <th>jabbers</th>\n",
       "      <th>multicastPkts</th>\n",
       "      <th>...</th>\n",
       "      <th>pkts512to1023Octets</th>\n",
       "      <th>pkts64Octets</th>\n",
       "      <th>pkts65to127Octets</th>\n",
       "      <th>rXNoErrors</th>\n",
       "      <th>rxGiantPkts</th>\n",
       "      <th>rxOversizePkts</th>\n",
       "      <th>tXNoErrors</th>\n",
       "      <th>txGiantPkts</th>\n",
       "      <th>txOversizePkts</th>\n",
       "      <th>undersizePkts</th>\n",
       "    </tr>\n",
       "  </thead>\n",
       "  <tbody>\n",
       "    <tr>\n",
       "      <th>0</th>\n",
       "      <td>2022-09-27</td>\n",
       "      <td>KBDC4</td>\n",
       "      <td>80812509284</td>\n",
       "      <td>29583983612203</td>\n",
       "      <td>94639235</td>\n",
       "      <td>0</td>\n",
       "      <td>0</td>\n",
       "      <td>17</td>\n",
       "      <td>17675</td>\n",
       "      <td>179071427525884</td>\n",
       "      <td>...</td>\n",
       "      <td>330423694072003</td>\n",
       "      <td>75020394433875</td>\n",
       "      <td>1470912628711340</td>\n",
       "      <td>4890009167162720</td>\n",
       "      <td>71785405</td>\n",
       "      <td>709779953901211</td>\n",
       "      <td>5705134654698320</td>\n",
       "      <td>0</td>\n",
       "      <td>937603462258379</td>\n",
       "      <td>0</td>\n",
       "    </tr>\n",
       "    <tr>\n",
       "      <th>1</th>\n",
       "      <td>2022-09-27</td>\n",
       "      <td>KBDCF</td>\n",
       "      <td>42946070513</td>\n",
       "      <td>142546000000</td>\n",
       "      <td>4994</td>\n",
       "      <td>0</td>\n",
       "      <td>0</td>\n",
       "      <td>0</td>\n",
       "      <td>6</td>\n",
       "      <td>5551460000000</td>\n",
       "      <td>...</td>\n",
       "      <td>3888500000000</td>\n",
       "      <td>374192000000</td>\n",
       "      <td>6386250000000</td>\n",
       "      <td>16762600000000</td>\n",
       "      <td>6</td>\n",
       "      <td>4617700000000</td>\n",
       "      <td>19113000000000</td>\n",
       "      <td>0</td>\n",
       "      <td>5230240000000</td>\n",
       "      <td>0</td>\n",
       "    </tr>\n",
       "  </tbody>\n",
       "</table>\n",
       "<p>2 rows × 26 columns</p>\n",
       "</div>"
      ],
      "text/plain": [
       "        Date Fabric  Last_Errors   broadcastPkts  cRCAlignErrors  collisions  \\\n",
       "0 2022-09-27  KBDC4  80812509284  29583983612203        94639235           0   \n",
       "1 2022-09-27  KBDCF  42946070513    142546000000            4994           0   \n",
       "\n",
       "   dropEvents  fragments  jabbers    multicastPkts  ... pkts512to1023Octets  \\\n",
       "0           0         17    17675  179071427525884  ...     330423694072003   \n",
       "1           0          0        6    5551460000000  ...       3888500000000   \n",
       "\n",
       "     pkts64Octets  pkts65to127Octets        rXNoErrors  rxGiantPkts  \\\n",
       "0  75020394433875   1470912628711340  4890009167162720     71785405   \n",
       "1    374192000000      6386250000000    16762600000000            6   \n",
       "\n",
       "    rxOversizePkts        tXNoErrors  txGiantPkts   txOversizePkts  \\\n",
       "0  709779953901211  5705134654698320            0  937603462258379   \n",
       "1    4617700000000    19113000000000            0    5230240000000   \n",
       "\n",
       "   undersizePkts  \n",
       "0              0  \n",
       "1              0  \n",
       "\n",
       "[2 rows x 26 columns]"
      ]
     },
     "execution_count": 36,
     "metadata": {},
     "output_type": "execute_result"
    }
   ],
   "source": [
    "df.head(2)"
   ]
  },
  {
   "cell_type": "code",
   "execution_count": 20,
   "id": "c5aaf380",
   "metadata": {},
   "outputs": [],
   "source": [
    "fragments = df['fragments']"
   ]
  },
  {
   "cell_type": "code",
   "execution_count": 37,
   "id": "ca9c22e6",
   "metadata": {},
   "outputs": [
    {
     "data": {
      "text/plain": [
       "<AxesSubplot:xlabel='Date'>"
      ]
     },
     "execution_count": 37,
     "metadata": {},
     "output_type": "execute_result"
    },
    {
     "data": {
      "image/png": "[encoded data removed]",
      "text/plain": [
       "<Figure size 432x288 with 1 Axes>"
      ]
     },
     "metadata": {
      "needs_background": "light"
     },
     "output_type": "display_data"
    }
   ],
   "source": [
    "df.plot.bar(x='Date', y='broadcastPkts')"
   ]
  },
  {
   "cell_type": "code",
   "execution_count": 32,
   "id": "dd0b2191",
   "metadata": {},
   "outputs": [
    {
     "data": {
      "text/plain": [
       "<AxesSubplot:xlabel='Fabric'>"
      ]
     },
     "execution_count": 32,
     "metadata": {},
     "output_type": "execute_result"
    },
    {
     "data": {
      "image/png": "[encoded data removed]",
      "text/plain": [
       "<Figure size 432x288 with 1 Axes>"
      ]
     },
     "metadata": {
      "needs_background": "light"
     },
     "output_type": "display_data"
    }
   ],
   "source": [
    "df.plot.bar(x='Fabric', y='fragments')"
   ]
  },
  {
   "cell_type": "code",
   "execution_count": 38,
   "id": "7d3e877c",
   "metadata": {},
   "outputs": [],
   "source": [
    "df = pd.DataFrame({\n",
    "    'Name': ['John', 'Sammy', 'Joe'],\n",
    "    'Age': [45, 38, 90],\n",
    "    'Height(in cm)': [150, 180, 160]\n",
    "})"
   ]
  },
  {
   "cell_type": "code",
   "execution_count": 39,
   "id": "a7976075",
   "metadata": {},
   "outputs": [
    {
     "data": {
      "text/html": [
       "<div>\n",
       "<style scoped>\n",
       "    .dataframe tbody tr th:only-of-type {\n",
       "        vertical-align: middle;\n",
       "    }\n",
       "\n",
       "    .dataframe tbody tr th {\n",
       "        vertical-align: top;\n",
       "    }\n",
       "\n",
       "    .dataframe thead th {\n",
       "        text-align: right;\n",
       "    }\n",
       "</style>\n",
       "<table border=\"1\" class=\"dataframe\">\n",
       "  <thead>\n",
       "    <tr style=\"text-align: right;\">\n",
       "      <th></th>\n",
       "      <th>Name</th>\n",
       "      <th>Age</th>\n",
       "      <th>Height(in cm)</th>\n",
       "    </tr>\n",
       "  </thead>\n",
       "  <tbody>\n",
       "    <tr>\n",
       "      <th>0</th>\n",
       "      <td>John</td>\n",
       "      <td>45</td>\n",
       "      <td>150</td>\n",
       "    </tr>\n",
       "    <tr>\n",
       "      <th>1</th>\n",
       "      <td>Sammy</td>\n",
       "      <td>38</td>\n",
       "      <td>180</td>\n",
       "    </tr>\n",
       "    <tr>\n",
       "      <th>2</th>\n",
       "      <td>Joe</td>\n",
       "      <td>90</td>\n",
       "      <td>160</td>\n",
       "    </tr>\n",
       "  </tbody>\n",
       "</table>\n",
       "</div>"
      ],
      "text/plain": [
       "    Name  Age  Height(in cm)\n",
       "0   John   45            150\n",
       "1  Sammy   38            180\n",
       "2    Joe   90            160"
      ]
     },
     "execution_count": 39,
     "metadata": {},
     "output_type": "execute_result"
    }
   ],
   "source": [
    "df"
   ]
  },
  {
   "cell_type": "code",
   "execution_count": 40,
   "id": "f588b085",
   "metadata": {},
   "outputs": [
    {
     "data": {
      "text/plain": [
       "<AxesSubplot:xlabel='Name'>"
      ]
     },
     "execution_count": 40,
     "metadata": {},
     "output_type": "execute_result"
    },
    {
     "data": {
      "image/png": "[encoded data removed]",
      "text/plain": [
       "<Figure size 432x288 with 1 Axes>"
      ]
     },
     "metadata": {
      "needs_background": "light"
     },
     "output_type": "display_data"
    }
   ],
   "source": [
    "df.plot(x=\"Fabric\", y=[\"fragments\", \"Height(in cm)\"], kind=\"bar\")"
   ]
  },
  {
   "cell_type": "code",
   "execution_count": null,
   "id": "4612ce96",
   "metadata": {},
   "outputs": [],
   "source": []
  },
  {
   "cell_type": "code",
   "execution_count": null,
   "id": "9092c9e8",
   "metadata": {},
   "outputs": [],
   "source": []
  },
  {
   "cell_type": "code",
   "execution_count": null,
   "id": "5347eabb",
   "metadata": {},
   "outputs": [],
   "source": []
  },
  {
   "cell_type": "code",
   "execution_count": null,
   "id": "42deec90",
   "metadata": {},
   "outputs": [],
   "source": []
  },
  {
   "cell_type": "code",
   "execution_count": null,
   "id": "2ba2d7ee",
   "metadata": {},
   "outputs": [],
   "source": []
  },
  {
   "cell_type": "code",
   "execution_count": null,
   "id": "35e0b445",
   "metadata": {},
   "outputs": [],
   "source": []
  },
  {
   "cell_type": "code",
   "execution_count": null,
   "id": "a52000da",
   "metadata": {},
   "outputs": [],
   "source": []
  },
  {
   "cell_type": "code",
   "execution_count": null,
   "id": "ba5bbb49",
   "metadata": {},
   "outputs": [],
   "source": []
  },
  {
   "cell_type": "code",
   "execution_count": null,
   "id": "c494d25d",
   "metadata": {},
   "outputs": [],
   "source": []
  },
  {
   "cell_type": "code",
   "execution_count": null,
   "id": "7e3d7069",
   "metadata": {},
   "outputs": [],
   "source": []
  },
  {
   "cell_type": "code",
   "execution_count": null,
   "id": "582f4409",
   "metadata": {},
   "outputs": [],
   "source": []
  },
  {
   "cell_type": "code",
   "execution_count": null,
   "id": "db1b5ef9",
   "metadata": {},
   "outputs": [],
   "source": []
  },
  {
   "cell_type": "code",
   "execution_count": null,
   "id": "20662283",
   "metadata": {},
   "outputs": [],
   "source": []
  },
  {
   "cell_type": "code",
   "execution_count": null,
   "id": "fb943747",
   "metadata": {},
   "outputs": [],
   "source": []
  },
  {
   "cell_type": "code",
   "execution_count": null,
   "id": "b167100a",
   "metadata": {},
   "outputs": [],
   "source": []
  },
  {
   "cell_type": "code",
   "execution_count": null,
   "id": "8b43ffad",
   "metadata": {},
   "outputs": [],
   "source": []
  },
  {
   "cell_type": "code",
   "execution_count": null,
   "id": "aaa10702",
   "metadata": {},
   "outputs": [],
   "source": []
  },
  {
   "cell_type": "code",
   "execution_count": null,
   "id": "5c64a760",
   "metadata": {},
   "outputs": [],
   "source": []
  },
  {
   "cell_type": "code",
   "execution_count": null,
   "id": "6ec7b346",
   "metadata": {},
   "outputs": [],
   "source": []
  },
  {
   "cell_type": "code",
   "execution_count": null,
   "id": "6e6bbc0f",
   "metadata": {},
   "outputs": [],
   "source": [
    "\n"
   ]
  }
 ],
 "metadata": {
  "kernelspec": {
   "display_name": "Python 3 (ipykernel)",
   "language": "python",
   "name": "python3"
  },
  "language_info": {
   "codemirror_mode": {
    "name": "ipython",
    "version": 3
   },
   "file_extension": ".py",
   "mimetype": "text/x-python",
   "name": "python",
   "nbconvert_exporter": "python",
   "pygments_lexer": "ipython3",
   "version": "3.10.4"
  }
 },
 "nbformat": 4,
 "nbformat_minor": 5
}
