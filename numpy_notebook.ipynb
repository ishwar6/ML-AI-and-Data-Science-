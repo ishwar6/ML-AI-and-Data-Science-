{
 "cells": [
  {
   "cell_type": "markdown",
   "id": "c352d027",
   "metadata": {},
   "source": [
    "# Numpy\n"
   ]
  },
  {
   "cell_type": "code",
   "execution_count": 1,
   "id": "ed1028f9",
   "metadata": {},
   "outputs": [],
   "source": [
    "import numpy as np\n"
   ]
  },
  {
   "cell_type": "markdown",
   "id": "e6a3d937",
   "metadata": {},
   "source": [
    "#DataTypes & Attributes"
   ]
  },
  {
   "cell_type": "code",
   "execution_count": 4,
   "id": "54cce88a",
   "metadata": {},
   "outputs": [
    {
     "data": {
      "text/plain": [
       "array([1, 2, 3])"
      ]
     },
     "execution_count": 4,
     "metadata": {},
     "output_type": "execute_result"
    }
   ],
   "source": [
    "a1 = np.array([1,2,3])\n",
    "a1"
   ]
  },
  {
   "cell_type": "code",
   "execution_count": 6,
   "id": "581c5439",
   "metadata": {},
   "outputs": [
    {
     "data": {
      "text/plain": [
       "(3,)"
      ]
     },
     "execution_count": 6,
     "metadata": {},
     "output_type": "execute_result"
    }
   ],
   "source": [
    " np.shape(a1)"
   ]
  },
  {
   "cell_type": "code",
   "execution_count": 7,
   "id": "5d9a1f11",
   "metadata": {},
   "outputs": [
    {
     "data": {
      "text/plain": [
       "1"
      ]
     },
     "execution_count": 7,
     "metadata": {},
     "output_type": "execute_result"
    }
   ],
   "source": [
    "a1.ndim"
   ]
  },
  {
   "cell_type": "code",
   "execution_count": 8,
   "id": "05390a3d",
   "metadata": {},
   "outputs": [],
   "source": [
    "a2 = np.array([[1,2,3], [4,5,6]])"
   ]
  },
  {
   "cell_type": "code",
   "execution_count": 10,
   "id": "758f1952",
   "metadata": {},
   "outputs": [
    {
     "data": {
      "text/plain": [
       "(2, 3)"
      ]
     },
     "execution_count": 10,
     "metadata": {},
     "output_type": "execute_result"
    }
   ],
   "source": [
    "np.shape(a2)"
   ]
  },
  {
   "cell_type": "code",
   "execution_count": 11,
   "id": "d7f576d7",
   "metadata": {},
   "outputs": [
    {
     "data": {
      "text/plain": [
       "array([[1, 2, 3],\n",
       "       [4, 5, 6]])"
      ]
     },
     "execution_count": 11,
     "metadata": {},
     "output_type": "execute_result"
    }
   ],
   "source": [
    "a2"
   ]
  },
  {
   "cell_type": "code",
   "execution_count": 12,
   "id": "ca7b58e9",
   "metadata": {},
   "outputs": [
    {
     "data": {
      "text/plain": [
       "2"
      ]
     },
     "execution_count": 12,
     "metadata": {},
     "output_type": "execute_result"
    }
   ],
   "source": [
    "a2.ndim"
   ]
  },
  {
   "cell_type": "code",
   "execution_count": 13,
   "id": "14d74af4",
   "metadata": {},
   "outputs": [
    {
     "data": {
      "text/plain": [
       "array([[1, 2, 3],\n",
       "       [4, 5, 6]])"
      ]
     },
     "execution_count": 13,
     "metadata": {},
     "output_type": "execute_result"
    }
   ],
   "source": [
    "a2"
   ]
  },
  {
   "cell_type": "code",
   "execution_count": 14,
   "id": "0f9278be",
   "metadata": {},
   "outputs": [],
   "source": [
    "import pandas as pd"
   ]
  },
  {
   "cell_type": "code",
   "execution_count": 15,
   "id": "63f379c0",
   "metadata": {},
   "outputs": [],
   "source": [
    "df = pd.DataFrame(a2)"
   ]
  },
  {
   "cell_type": "code",
   "execution_count": 16,
   "id": "5cb0704d",
   "metadata": {},
   "outputs": [
    {
     "data": {
      "text/html": [
       "<div>\n",
       "<style scoped>\n",
       "    .dataframe tbody tr th:only-of-type {\n",
       "        vertical-align: middle;\n",
       "    }\n",
       "\n",
       "    .dataframe tbody tr th {\n",
       "        vertical-align: top;\n",
       "    }\n",
       "\n",
       "    .dataframe thead th {\n",
       "        text-align: right;\n",
       "    }\n",
       "</style>\n",
       "<table border=\"1\" class=\"dataframe\">\n",
       "  <thead>\n",
       "    <tr style=\"text-align: right;\">\n",
       "      <th></th>\n",
       "      <th>0</th>\n",
       "      <th>1</th>\n",
       "      <th>2</th>\n",
       "    </tr>\n",
       "  </thead>\n",
       "  <tbody>\n",
       "    <tr>\n",
       "      <th>0</th>\n",
       "      <td>1</td>\n",
       "      <td>2</td>\n",
       "      <td>3</td>\n",
       "    </tr>\n",
       "    <tr>\n",
       "      <th>1</th>\n",
       "      <td>4</td>\n",
       "      <td>5</td>\n",
       "      <td>6</td>\n",
       "    </tr>\n",
       "  </tbody>\n",
       "</table>\n",
       "</div>"
      ],
      "text/plain": [
       "   0  1  2\n",
       "0  1  2  3\n",
       "1  4  5  6"
      ]
     },
     "execution_count": 16,
     "metadata": {},
     "output_type": "execute_result"
    }
   ],
   "source": [
    "df"
   ]
  },
  {
   "cell_type": "markdown",
   "id": "df6ee8c6",
   "metadata": {},
   "source": [
    "## Creating Arrays"
   ]
  },
  {
   "cell_type": "code",
   "execution_count": 18,
   "id": "8b97b088",
   "metadata": {},
   "outputs": [],
   "source": [
    "ones = np.ones((2,3))"
   ]
  },
  {
   "cell_type": "code",
   "execution_count": 19,
   "id": "cad34062",
   "metadata": {},
   "outputs": [
    {
     "data": {
      "text/plain": [
       "array([[1., 1., 1.],\n",
       "       [1., 1., 1.]])"
      ]
     },
     "execution_count": 19,
     "metadata": {},
     "output_type": "execute_result"
    }
   ],
   "source": [
    "ones"
   ]
  },
  {
   "cell_type": "code",
   "execution_count": 20,
   "id": "8677c8ef",
   "metadata": {},
   "outputs": [
    {
     "data": {
      "text/plain": [
       "dtype('float64')"
      ]
     },
     "execution_count": 20,
     "metadata": {},
     "output_type": "execute_result"
    }
   ],
   "source": [
    "ones.dtype"
   ]
  },
  {
   "cell_type": "code",
   "execution_count": 21,
   "id": "cbd74760",
   "metadata": {},
   "outputs": [
    {
     "data": {
      "text/plain": [
       "numpy.ndarray"
      ]
     },
     "execution_count": 21,
     "metadata": {},
     "output_type": "execute_result"
    }
   ],
   "source": [
    "type(ones)"
   ]
  },
  {
   "cell_type": "code",
   "execution_count": 24,
   "id": "2ebfc7c6",
   "metadata": {},
   "outputs": [],
   "source": [
    "zeros = np.zeros((2,3))"
   ]
  },
  {
   "cell_type": "code",
   "execution_count": 25,
   "id": "8d3d5a9d",
   "metadata": {},
   "outputs": [
    {
     "data": {
      "text/plain": [
       "array([[0., 0., 0.],\n",
       "       [0., 0., 0.]])"
      ]
     },
     "execution_count": 25,
     "metadata": {},
     "output_type": "execute_result"
    }
   ],
   "source": [
    "zeros"
   ]
  },
  {
   "cell_type": "code",
   "execution_count": 26,
   "id": "408221e4",
   "metadata": {},
   "outputs": [],
   "source": [
    "range_array = np.arange(0,10,2)"
   ]
  },
  {
   "cell_type": "code",
   "execution_count": 27,
   "id": "3b3839a6",
   "metadata": {},
   "outputs": [
    {
     "data": {
      "text/plain": [
       "array([0, 2, 4, 6, 8])"
      ]
     },
     "execution_count": 27,
     "metadata": {},
     "output_type": "execute_result"
    }
   ],
   "source": [
    "range_array"
   ]
  },
  {
   "cell_type": "code",
   "execution_count": 31,
   "id": "89c71de6",
   "metadata": {},
   "outputs": [],
   "source": [
    "random_array = np.random.randint(1,10,size=(2,3))"
   ]
  },
  {
   "cell_type": "code",
   "execution_count": 32,
   "id": "bd7e011e",
   "metadata": {},
   "outputs": [
    {
     "data": {
      "text/plain": [
       "array([[4, 2, 1],\n",
       "       [6, 2, 3]])"
      ]
     },
     "execution_count": 32,
     "metadata": {},
     "output_type": "execute_result"
    }
   ],
   "source": [
    "random_array"
   ]
  },
  {
   "cell_type": "code",
   "execution_count": 33,
   "id": "cc140304",
   "metadata": {},
   "outputs": [
    {
     "data": {
      "text/plain": [
       "array([[0.90639748, 0.31400951, 0.18011621, 0.1833942 , 0.70636206,\n",
       "        0.21160528],\n",
       "       [0.70470682, 0.04327064, 0.78750801, 0.93865414, 0.86786923,\n",
       "        0.6223984 ],\n",
       "       [0.98439665, 0.7439711 , 0.92328098, 0.57357301, 0.69737307,\n",
       "        0.01761596]])"
      ]
     },
     "execution_count": 33,
     "metadata": {},
     "output_type": "execute_result"
    }
   ],
   "source": [
    "np.random.random((3,6))"
   ]
  },
  {
   "cell_type": "code",
   "execution_count": 34,
   "id": "72361042",
   "metadata": {},
   "outputs": [],
   "source": [
    "r3 = np.random.rand(2,3)"
   ]
  },
  {
   "cell_type": "code",
   "execution_count": 35,
   "id": "3487bb88",
   "metadata": {},
   "outputs": [
    {
     "data": {
      "text/plain": [
       "array([[0.65144709, 0.30424004, 0.96190122],\n",
       "       [0.62553107, 0.55990965, 0.42066815]])"
      ]
     },
     "execution_count": 35,
     "metadata": {},
     "output_type": "execute_result"
    }
   ],
   "source": [
    "r3\n"
   ]
  },
  {
   "cell_type": "code",
   "execution_count": 48,
   "id": "7b90b854",
   "metadata": {},
   "outputs": [],
   "source": [
    "# Pseudo random number\n",
    "np.random.seed(0)"
   ]
  },
  {
   "cell_type": "code",
   "execution_count": 49,
   "id": "45ec711e",
   "metadata": {},
   "outputs": [
    {
     "data": {
      "text/plain": [
       "array([[5, 0, 3],\n",
       "       [3, 7, 9]])"
      ]
     },
     "execution_count": 49,
     "metadata": {},
     "output_type": "execute_result"
    }
   ],
   "source": [
    "np.random.randint(10, size=(2,3))"
   ]
  },
  {
   "cell_type": "markdown",
   "id": "3c5f6fdb",
   "metadata": {},
   "source": [
    "## Viewing arrays in Numpy"
   ]
  },
  {
   "cell_type": "code",
   "execution_count": 71,
   "id": "c744ee8c",
   "metadata": {},
   "outputs": [],
   "source": [
    "a1 = np.array([1,2,3,4])"
   ]
  },
  {
   "cell_type": "code",
   "execution_count": 72,
   "id": "308639f1",
   "metadata": {},
   "outputs": [],
   "source": [
    "a2 = np.array([a1, a1, a1])"
   ]
  },
  {
   "cell_type": "code",
   "execution_count": 73,
   "id": "34e47546",
   "metadata": {},
   "outputs": [],
   "source": [
    "a3 = np.array([a2,a2,a2])"
   ]
  },
  {
   "cell_type": "code",
   "execution_count": 74,
   "id": "d53f0a18",
   "metadata": {},
   "outputs": [
    {
     "data": {
      "text/plain": [
       "array([1, 2, 3, 4])"
      ]
     },
     "execution_count": 74,
     "metadata": {},
     "output_type": "execute_result"
    }
   ],
   "source": [
    "a1"
   ]
  },
  {
   "cell_type": "code",
   "execution_count": 75,
   "id": "1c76957e",
   "metadata": {},
   "outputs": [
    {
     "data": {
      "text/plain": [
       "array([[1, 2, 3, 4],\n",
       "       [1, 2, 3, 4],\n",
       "       [1, 2, 3, 4]])"
      ]
     },
     "execution_count": 75,
     "metadata": {},
     "output_type": "execute_result"
    }
   ],
   "source": [
    "a2"
   ]
  },
  {
   "cell_type": "code",
   "execution_count": 76,
   "id": "f5896b12",
   "metadata": {},
   "outputs": [
    {
     "data": {
      "text/plain": [
       "array([[[1, 2, 3, 4],\n",
       "        [1, 2, 3, 4],\n",
       "        [1, 2, 3, 4]],\n",
       "\n",
       "       [[1, 2, 3, 4],\n",
       "        [1, 2, 3, 4],\n",
       "        [1, 2, 3, 4]],\n",
       "\n",
       "       [[1, 2, 3, 4],\n",
       "        [1, 2, 3, 4],\n",
       "        [1, 2, 3, 4]]])"
      ]
     },
     "execution_count": 76,
     "metadata": {},
     "output_type": "execute_result"
    }
   ],
   "source": [
    "a3"
   ]
  },
  {
   "cell_type": "code",
   "execution_count": 77,
   "id": "bdfc399b",
   "metadata": {},
   "outputs": [
    {
     "data": {
      "text/plain": [
       "3"
      ]
     },
     "execution_count": 77,
     "metadata": {},
     "output_type": "execute_result"
    }
   ],
   "source": [
    "a3.ndim"
   ]
  },
  {
   "cell_type": "code",
   "execution_count": 78,
   "id": "41b95088",
   "metadata": {},
   "outputs": [
    {
     "data": {
      "text/plain": [
       "2"
      ]
     },
     "execution_count": 78,
     "metadata": {},
     "output_type": "execute_result"
    }
   ],
   "source": [
    "a2.ndim"
   ]
  },
  {
   "cell_type": "code",
   "execution_count": 79,
   "id": "fbd31f81",
   "metadata": {},
   "outputs": [
    {
     "data": {
      "text/plain": [
       "(1,\n",
       " array([1, 2, 3, 4]),\n",
       " array([[1, 2, 3, 4],\n",
       "        [1, 2, 3, 4],\n",
       "        [1, 2, 3, 4]]))"
      ]
     },
     "execution_count": 79,
     "metadata": {},
     "output_type": "execute_result"
    }
   ],
   "source": [
    "a1[0], a2[0], a3[0]"
   ]
  },
  {
   "cell_type": "code",
   "execution_count": 80,
   "id": "4bbc8a78",
   "metadata": {},
   "outputs": [
    {
     "data": {
      "text/plain": [
       "((3, 4), (3, 3, 4))"
      ]
     },
     "execution_count": 80,
     "metadata": {},
     "output_type": "execute_result"
    }
   ],
   "source": [
    "np.shape(a2), np.shape(a3)"
   ]
  },
  {
   "cell_type": "code",
   "execution_count": 81,
   "id": "2fd56dcd",
   "metadata": {},
   "outputs": [
    {
     "data": {
      "text/plain": [
       "array([1, 2, 3, 4])"
      ]
     },
     "execution_count": 81,
     "metadata": {},
     "output_type": "execute_result"
    }
   ],
   "source": [
    "a3[0][0]"
   ]
  },
  {
   "cell_type": "code",
   "execution_count": 82,
   "id": "7274f8aa",
   "metadata": {},
   "outputs": [
    {
     "data": {
      "text/plain": [
       "2"
      ]
     },
     "execution_count": 82,
     "metadata": {},
     "output_type": "execute_result"
    }
   ],
   "source": [
    "a3[0][0][1]"
   ]
  },
  {
   "cell_type": "code",
   "execution_count": 83,
   "id": "720f5df0",
   "metadata": {},
   "outputs": [
    {
     "data": {
      "text/plain": [
       "((4,), (3, 4), (3, 3, 4))"
      ]
     },
     "execution_count": 83,
     "metadata": {},
     "output_type": "execute_result"
    }
   ],
   "source": [
    "a1.shape, a2.shape, a3.shape"
   ]
  },
  {
   "cell_type": "code",
   "execution_count": 84,
   "id": "a9cc5b3a",
   "metadata": {},
   "outputs": [],
   "source": [
    "a4 = np.random.randint(10, size=(2,3,4,5))"
   ]
  },
  {
   "cell_type": "code",
   "execution_count": 85,
   "id": "2112b242",
   "metadata": {},
   "outputs": [
    {
     "data": {
      "text/plain": [
       "array([[[[3, 5, 2, 4, 7],\n",
       "         [6, 8, 8, 1, 6],\n",
       "         [7, 7, 8, 1, 5],\n",
       "         [9, 8, 9, 4, 3]],\n",
       "\n",
       "        [[0, 3, 5, 0, 2],\n",
       "         [3, 8, 1, 3, 3],\n",
       "         [3, 7, 0, 1, 9],\n",
       "         [9, 0, 4, 7, 3]],\n",
       "\n",
       "        [[2, 7, 2, 0, 0],\n",
       "         [4, 5, 5, 6, 8],\n",
       "         [4, 1, 4, 9, 8],\n",
       "         [1, 1, 7, 9, 9]]],\n",
       "\n",
       "\n",
       "       [[[3, 6, 7, 2, 0],\n",
       "         [3, 5, 9, 4, 4],\n",
       "         [6, 4, 4, 3, 4],\n",
       "         [4, 8, 4, 3, 7]],\n",
       "\n",
       "        [[5, 5, 0, 1, 5],\n",
       "         [9, 3, 0, 5, 0],\n",
       "         [1, 2, 4, 2, 0],\n",
       "         [3, 2, 0, 7, 5]],\n",
       "\n",
       "        [[9, 0, 2, 7, 2],\n",
       "         [9, 2, 3, 3, 2],\n",
       "         [3, 4, 1, 2, 9],\n",
       "         [1, 4, 6, 8, 2]]]])"
      ]
     },
     "execution_count": 85,
     "metadata": {},
     "output_type": "execute_result"
    }
   ],
   "source": [
    "a4\n"
   ]
  },
  {
   "cell_type": "code",
   "execution_count": 86,
   "id": "dbf07448",
   "metadata": {},
   "outputs": [
    {
     "data": {
      "text/plain": [
       "array([[[3, 6, 7, 2, 0],\n",
       "        [3, 5, 9, 4, 4],\n",
       "        [6, 4, 4, 3, 4],\n",
       "        [4, 8, 4, 3, 7]],\n",
       "\n",
       "       [[5, 5, 0, 1, 5],\n",
       "        [9, 3, 0, 5, 0],\n",
       "        [1, 2, 4, 2, 0],\n",
       "        [3, 2, 0, 7, 5]],\n",
       "\n",
       "       [[9, 0, 2, 7, 2],\n",
       "        [9, 2, 3, 3, 2],\n",
       "        [3, 4, 1, 2, 9],\n",
       "        [1, 4, 6, 8, 2]]])"
      ]
     },
     "execution_count": 86,
     "metadata": {},
     "output_type": "execute_result"
    }
   ],
   "source": [
    "a4[1\n",
    "  ]"
   ]
  },
  {
   "cell_type": "code",
   "execution_count": 89,
   "id": "f5f660d2",
   "metadata": {},
   "outputs": [
    {
     "data": {
      "text/plain": [
       "array([[5, 5, 0, 1, 5],\n",
       "       [9, 3, 0, 5, 0],\n",
       "       [1, 2, 4, 2, 0],\n",
       "       [3, 2, 0, 7, 5]])"
      ]
     },
     "execution_count": 89,
     "metadata": {},
     "output_type": "execute_result"
    }
   ],
   "source": [
    "a4[1][1]"
   ]
  },
  {
   "cell_type": "code",
   "execution_count": 92,
   "id": "c5d29467",
   "metadata": {},
   "outputs": [
    {
     "data": {
      "text/plain": [
       "array([[[[3],\n",
       "         [6],\n",
       "         [7]]],\n",
       "\n",
       "\n",
       "       [[[3],\n",
       "         [3],\n",
       "         [6]]]])"
      ]
     },
     "execution_count": 92,
     "metadata": {},
     "output_type": "execute_result"
    }
   ],
   "source": [
    "a4[:,:1,:3,:1]"
   ]
  },
  {
   "cell_type": "markdown",
   "id": "63fbb1f9",
   "metadata": {},
   "source": [
    "# Manipulating & comparing arrays"
   ]
  },
  {
   "cell_type": "code",
   "execution_count": 94,
   "id": "cfc4e6d6",
   "metadata": {},
   "outputs": [
    {
     "data": {
      "text/plain": [
       "array([1, 2, 3, 4])"
      ]
     },
     "execution_count": 94,
     "metadata": {},
     "output_type": "execute_result"
    }
   ],
   "source": [
    "a1 "
   ]
  },
  {
   "cell_type": "code",
   "execution_count": 96,
   "id": "35432ea6",
   "metadata": {},
   "outputs": [],
   "source": [
    "a1 =np.array([1,2,3])"
   ]
  },
  {
   "cell_type": "code",
   "execution_count": 99,
   "id": "2cd3d336",
   "metadata": {},
   "outputs": [],
   "source": [
    "ones = np.ones([3])"
   ]
  },
  {
   "cell_type": "code",
   "execution_count": 100,
   "id": "6a4a2370",
   "metadata": {},
   "outputs": [
    {
     "data": {
      "text/plain": [
       "array([1., 1., 1.])"
      ]
     },
     "execution_count": 100,
     "metadata": {},
     "output_type": "execute_result"
    }
   ],
   "source": [
    "ones"
   ]
  },
  {
   "cell_type": "code",
   "execution_count": 101,
   "id": "39b54bbc",
   "metadata": {},
   "outputs": [
    {
     "data": {
      "text/plain": [
       "array([2., 3., 4.])"
      ]
     },
     "execution_count": 101,
     "metadata": {},
     "output_type": "execute_result"
    }
   ],
   "source": [
    "a1+ ones"
   ]
  },
  {
   "cell_type": "code",
   "execution_count": 102,
   "id": "1656ce5a",
   "metadata": {},
   "outputs": [
    {
     "data": {
      "text/plain": [
       "array([0., 1., 2.])"
      ]
     },
     "execution_count": 102,
     "metadata": {},
     "output_type": "execute_result"
    }
   ],
   "source": [
    "a1 - ones"
   ]
  },
  {
   "cell_type": "code",
   "execution_count": 103,
   "id": "47ca44a8",
   "metadata": {},
   "outputs": [
    {
     "data": {
      "text/plain": [
       "array([1., 2., 3.])"
      ]
     },
     "execution_count": 103,
     "metadata": {},
     "output_type": "execute_result"
    }
   ],
   "source": [
    "a1*ones"
   ]
  },
  {
   "cell_type": "code",
   "execution_count": 104,
   "id": "313ac464",
   "metadata": {},
   "outputs": [
    {
     "data": {
      "text/plain": [
       "array([[1, 2, 3, 4],\n",
       "       [1, 2, 3, 4],\n",
       "       [1, 2, 3, 4]])"
      ]
     },
     "execution_count": 104,
     "metadata": {},
     "output_type": "execute_result"
    }
   ],
   "source": [
    "a2 "
   ]
  },
  {
   "cell_type": "code",
   "execution_count": 107,
   "id": "a7185e4a",
   "metadata": {},
   "outputs": [],
   "source": [
    "a1 = np.array([1,2,3,4])"
   ]
  },
  {
   "cell_type": "code",
   "execution_count": 108,
   "id": "bb37bfaf",
   "metadata": {},
   "outputs": [
    {
     "data": {
      "text/plain": [
       "array([[ 1,  4,  9, 16],\n",
       "       [ 1,  4,  9, 16],\n",
       "       [ 1,  4,  9, 16]])"
      ]
     },
     "execution_count": 108,
     "metadata": {},
     "output_type": "execute_result"
    }
   ],
   "source": [
    "a1*a2"
   ]
  },
  {
   "cell_type": "code",
   "execution_count": 109,
   "id": "277cd044",
   "metadata": {},
   "outputs": [
    {
     "data": {
      "text/plain": [
       "array([[[1, 2, 3, 4],\n",
       "        [1, 2, 3, 4],\n",
       "        [1, 2, 3, 4]],\n",
       "\n",
       "       [[1, 2, 3, 4],\n",
       "        [1, 2, 3, 4],\n",
       "        [1, 2, 3, 4]],\n",
       "\n",
       "       [[1, 2, 3, 4],\n",
       "        [1, 2, 3, 4],\n",
       "        [1, 2, 3, 4]]])"
      ]
     },
     "execution_count": 109,
     "metadata": {},
     "output_type": "execute_result"
    }
   ],
   "source": [
    "a3"
   ]
  },
  {
   "cell_type": "code",
   "execution_count": 122,
   "id": "12005d9e",
   "metadata": {},
   "outputs": [
    {
     "data": {
      "text/plain": [
       "(3, 4)"
      ]
     },
     "execution_count": 122,
     "metadata": {},
     "output_type": "execute_result"
    }
   ],
   "source": [
    "a2.shape"
   ]
  },
  {
   "cell_type": "code",
   "execution_count": 123,
   "id": "d8666d30",
   "metadata": {},
   "outputs": [
    {
     "data": {
      "text/plain": [
       "(3, 3, 4)"
      ]
     },
     "execution_count": 123,
     "metadata": {},
     "output_type": "execute_result"
    }
   ],
   "source": [
    "a3.shape"
   ]
  },
  {
   "cell_type": "markdown",
   "id": "4ee8e1b0",
   "metadata": {},
   "source": [
    "#how to make these two compatible"
   ]
  },
  {
   "cell_type": "code",
   "execution_count": 124,
   "id": "c6a97126",
   "metadata": {},
   "outputs": [
    {
     "data": {
      "text/plain": [
       "array([[[ 1,  4,  9, 16],\n",
       "        [ 1,  4,  9, 16],\n",
       "        [ 1,  4,  9, 16]],\n",
       "\n",
       "       [[ 1,  4,  9, 16],\n",
       "        [ 1,  4,  9, 16],\n",
       "        [ 1,  4,  9, 16]],\n",
       "\n",
       "       [[ 1,  4,  9, 16],\n",
       "        [ 1,  4,  9, 16],\n",
       "        [ 1,  4,  9, 16]]])"
      ]
     },
     "execution_count": 124,
     "metadata": {},
     "output_type": "execute_result"
    }
   ],
   "source": [
    "a2*a3"
   ]
  },
  {
   "cell_type": "code",
   "execution_count": 125,
   "id": "bd163b36",
   "metadata": {},
   "outputs": [
    {
     "data": {
      "text/plain": [
       "array([[[1, 2, 3, 4],\n",
       "        [1, 2, 3, 4],\n",
       "        [1, 2, 3, 4]]])"
      ]
     },
     "execution_count": 125,
     "metadata": {},
     "output_type": "execute_result"
    }
   ],
   "source": [
    "a2.reshape(1,3,4)"
   ]
  },
  {
   "cell_type": "code",
   "execution_count": 126,
   "id": "a55eb049",
   "metadata": {},
   "outputs": [
    {
     "data": {
      "text/plain": [
       "array([[1, 2, 3, 4],\n",
       "       [1, 2, 3, 4],\n",
       "       [1, 2, 3, 4]])"
      ]
     },
     "execution_count": 126,
     "metadata": {},
     "output_type": "execute_result"
    }
   ],
   "source": [
    "a2"
   ]
  },
  {
   "cell_type": "code",
   "execution_count": 127,
   "id": "fea1afae",
   "metadata": {},
   "outputs": [
    {
     "data": {
      "text/plain": [
       "array([[[ 1,  4,  9, 16],\n",
       "        [ 1,  4,  9, 16],\n",
       "        [ 1,  4,  9, 16]],\n",
       "\n",
       "       [[ 1,  4,  9, 16],\n",
       "        [ 1,  4,  9, 16],\n",
       "        [ 1,  4,  9, 16]],\n",
       "\n",
       "       [[ 1,  4,  9, 16],\n",
       "        [ 1,  4,  9, 16],\n",
       "        [ 1,  4,  9, 16]]])"
      ]
     },
     "execution_count": 127,
     "metadata": {},
     "output_type": "execute_result"
    }
   ],
   "source": [
    "a2*a3"
   ]
  },
  {
   "cell_type": "code",
   "execution_count": 128,
   "id": "f1c0da1d",
   "metadata": {},
   "outputs": [
    {
     "data": {
      "text/plain": [
       "array([[[1, 1, 1, 1],\n",
       "        [1, 1, 1, 1],\n",
       "        [1, 1, 1, 1]],\n",
       "\n",
       "       [[1, 1, 1, 1],\n",
       "        [1, 1, 1, 1],\n",
       "        [1, 1, 1, 1]],\n",
       "\n",
       "       [[1, 1, 1, 1],\n",
       "        [1, 1, 1, 1],\n",
       "        [1, 1, 1, 1]]])"
      ]
     },
     "execution_count": 128,
     "metadata": {},
     "output_type": "execute_result"
    }
   ],
   "source": [
    "a2//a3"
   ]
  },
  {
   "cell_type": "code",
   "execution_count": 129,
   "id": "07c43025",
   "metadata": {},
   "outputs": [
    {
     "data": {
      "text/plain": [
       "array([[ 1,  4,  9, 16],\n",
       "       [ 1,  4,  9, 16],\n",
       "       [ 1,  4,  9, 16]])"
      ]
     },
     "execution_count": 129,
     "metadata": {},
     "output_type": "execute_result"
    }
   ],
   "source": [
    "a2**2"
   ]
  },
  {
   "cell_type": "code",
   "execution_count": 130,
   "id": "25f5305e",
   "metadata": {},
   "outputs": [
    {
     "data": {
      "text/plain": [
       "array([[  1,  16,  81, 256],\n",
       "       [  1,  16,  81, 256],\n",
       "       [  1,  16,  81, 256]])"
      ]
     },
     "execution_count": 130,
     "metadata": {},
     "output_type": "execute_result"
    }
   ],
   "source": [
    "a2**4"
   ]
  },
  {
   "cell_type": "code",
   "execution_count": 132,
   "id": "24cd2ece",
   "metadata": {},
   "outputs": [
    {
     "data": {
      "text/plain": [
       "array([[ 1,  4,  9, 16],\n",
       "       [ 1,  4,  9, 16],\n",
       "       [ 1,  4,  9, 16]])"
      ]
     },
     "execution_count": 132,
     "metadata": {},
     "output_type": "execute_result"
    }
   ],
   "source": [
    "np.square(a2)"
   ]
  },
  {
   "cell_type": "markdown",
   "id": "88b8e1c6",
   "metadata": {},
   "source": [
    "### Aggregation : Formation of cluster, same operation in no of things"
   ]
  },
  {
   "cell_type": "code",
   "execution_count": 134,
   "id": "da779cf8",
   "metadata": {},
   "outputs": [],
   "source": [
    "l = [1,2,3,4]"
   ]
  },
  {
   "cell_type": "code",
   "execution_count": 135,
   "id": "3d99750b",
   "metadata": {},
   "outputs": [
    {
     "data": {
      "text/plain": [
       "10"
      ]
     },
     "execution_count": 135,
     "metadata": {},
     "output_type": "execute_result"
    }
   ],
   "source": [
    "sum(l)"
   ]
  },
  {
   "cell_type": "code",
   "execution_count": 136,
   "id": "01041b01",
   "metadata": {},
   "outputs": [
    {
     "data": {
      "text/plain": [
       "10"
      ]
     },
     "execution_count": 136,
     "metadata": {},
     "output_type": "execute_result"
    }
   ],
   "source": [
    "np.sum(l)"
   ]
  },
  {
   "cell_type": "markdown",
   "id": "7d02e5b1",
   "metadata": {},
   "source": [
    "`sum`"
   ]
  },
  {
   "cell_type": "code",
   "execution_count": 140,
   "id": "9004d44b",
   "metadata": {},
   "outputs": [],
   "source": [
    "array = np.random.random(10000)"
   ]
  },
  {
   "cell_type": "code",
   "execution_count": 141,
   "id": "58cd7c0c",
   "metadata": {},
   "outputs": [
    {
     "data": {
      "text/plain": [
       "10000"
      ]
     },
     "execution_count": 141,
     "metadata": {},
     "output_type": "execute_result"
    }
   ],
   "source": [
    "array.size"
   ]
  },
  {
   "cell_type": "code",
   "execution_count": 142,
   "id": "9228fafc",
   "metadata": {},
   "outputs": [
    {
     "data": {
      "text/plain": [
       "array([0.7549011 , 0.88502185, 0.10025174, 0.75898455, 0.01706049,\n",
       "       0.96705492, 0.61505802, 0.55243906, 0.29594983, 0.92929167])"
      ]
     },
     "execution_count": 142,
     "metadata": {},
     "output_type": "execute_result"
    }
   ],
   "source": [
    "array[0:10]"
   ]
  },
  {
   "cell_type": "code",
   "execution_count": 145,
   "id": "ffc13173",
   "metadata": {},
   "outputs": [
    {
     "name": "stdout",
     "output_type": "stream",
     "text": [
      "395 µs ± 12.1 µs per loop (mean ± std. dev. of 7 runs, 1,000 loops each)\n",
      "3.15 µs ± 25.5 ns per loop (mean ± std. dev. of 7 runs, 100,000 loops each)\n"
     ]
    }
   ],
   "source": [
    "%timeit sum(array)\n",
    "%timeit np.sum(array)"
   ]
  },
  {
   "cell_type": "code",
   "execution_count": 147,
   "id": "b11669b4",
   "metadata": {},
   "outputs": [
    {
     "data": {
      "text/plain": [
       "0.4955793600825783"
      ]
     },
     "execution_count": 147,
     "metadata": {},
     "output_type": "execute_result"
    }
   ],
   "source": [
    "np.mean(array)"
   ]
  },
  {
   "cell_type": "code",
   "execution_count": 148,
   "id": "300f11f3",
   "metadata": {},
   "outputs": [
    {
     "data": {
      "text/plain": [
       "4955.793600825783"
      ]
     },
     "execution_count": 148,
     "metadata": {},
     "output_type": "execute_result"
    }
   ],
   "source": [
    "np.sum(array)"
   ]
  },
  {
   "cell_type": "code",
   "execution_count": 149,
   "id": "1a55a170",
   "metadata": {},
   "outputs": [
    {
     "data": {
      "text/plain": [
       "1.25"
      ]
     },
     "execution_count": 149,
     "metadata": {},
     "output_type": "execute_result"
    }
   ],
   "source": [
    "np.var(a2)"
   ]
  },
  {
   "cell_type": "markdown",
   "id": "3cf1e750",
   "metadata": {},
   "source": [
    "#### Standard Deviation and Variance"
   ]
  },
  {
   "cell_type": "code",
   "execution_count": 153,
   "id": "e0e44313",
   "metadata": {},
   "outputs": [],
   "source": [
    "high_var = np.array([1,10,200,4000,5000])\n",
    "low_var  = np.array([2,4,6,8,10])"
   ]
  },
  {
   "cell_type": "code",
   "execution_count": 154,
   "id": "aeac83b9",
   "metadata": {},
   "outputs": [
    {
     "data": {
      "text/plain": [
       "(4814319.360000001, 8.0)"
      ]
     },
     "execution_count": 154,
     "metadata": {},
     "output_type": "execute_result"
    }
   ],
   "source": [
    "np.var(high_var), np.var(low_var)"
   ]
  },
  {
   "cell_type": "markdown",
   "id": "fef7f957",
   "metadata": {},
   "source": [
    "### Higher variance = wider range of numbers"
   ]
  },
  {
   "cell_type": "code",
   "execution_count": 157,
   "id": "f27d04bf",
   "metadata": {},
   "outputs": [
    {
     "data": {
      "text/plain": [
       "(1842.2, 6.0)"
      ]
     },
     "execution_count": 157,
     "metadata": {},
     "output_type": "execute_result"
    }
   ],
   "source": [
    "np.mean(high_var),np.mean(low_var)"
   ]
  },
  {
   "cell_type": "code",
   "execution_count": 158,
   "id": "cb95e827",
   "metadata": {},
   "outputs": [
    {
     "data": {
      "text/plain": [
       "(2194.1557282927756, 2.8284271247461903)"
      ]
     },
     "execution_count": 158,
     "metadata": {},
     "output_type": "execute_result"
    }
   ],
   "source": [
    "np.std(high_var), np.std(low_var)"
   ]
  },
  {
   "cell_type": "code",
   "execution_count": null,
   "id": "474a5d9b",
   "metadata": {},
   "outputs": [],
   "source": []
  }
 ],
 "metadata": {
  "kernelspec": {
   "display_name": "Python 3 (ipykernel)",
   "language": "python",
   "name": "python3"
  },
  "language_info": {
   "codemirror_mode": {
    "name": "ipython",
    "version": 3
   },
   "file_extension": ".py",
   "mimetype": "text/x-python",
   "name": "python",
   "nbconvert_exporter": "python",
   "pygments_lexer": "ipython3",
   "version": "3.10.4"
  }
 },
 "nbformat": 4,
 "nbformat_minor": 5
}
